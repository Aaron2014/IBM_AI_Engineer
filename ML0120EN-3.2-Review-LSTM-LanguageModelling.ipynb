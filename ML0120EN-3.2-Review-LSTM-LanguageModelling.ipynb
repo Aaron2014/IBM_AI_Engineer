{
 "cells": [
  {
   "cell_type": "markdown",
   "metadata": {},
   "source": [
    "<img src=\"https://cf-courses-data.s3.us.cloud-object-storage.appdomain.cloud/IBMDeveloperSkillsNetwork-DL0120EN-SkillsNetwork/images/IDSN-logo.png\" width=\"300\" alt=\"cognitiveclass.ai logo\">\n",
    "\n",
    "<h1 align=\"center\"><font size=\"5\">RECURRENT NETWORKS and LSTM IN DEEP LEARNING</font></h1>\n"
   ]
  },
  {
   "cell_type": "markdown",
   "metadata": {},
   "source": [
    "Estimated time needed: **30** minutes\n"
   ]
  },
  {
   "cell_type": "markdown",
   "metadata": {},
   "source": [
    "<h2>Applying Recurrent Neural Networks/LSTM for Language Modeling</h2>\n",
    "Hello and welcome to this part. In this notebook, we will go over the topic of Language Modelling, and create a Recurrent Neural Network model based on the Long Short-Term Memory unit to train and benchmark on the Penn Treebank dataset. By the end of this notebook, you should be able to understand how TensorFlow builds and executes a RNN model for Language Modelling.\n"
   ]
  },
  {
   "cell_type": "markdown",
   "metadata": {},
   "source": [
    "<h2>The Objective</h2>\n",
    "By now, you should have an understanding of how Recurrent Networks work -- a specialized model to process sequential data by keeping track of the \"state\" or context. In this notebook, we go over a TensorFlow code snippet for creating a model focused on <b>Language Modelling</b> -- a very relevant task that is the cornerstone of many different linguistic problems such as <b>Speech Recognition, Machine Translation and Image Captioning</b>. For this, we will be using the Penn Treebank dataset, which is an often-used dataset for benchmarking Language Modelling models.\n"
   ]
  },
  {
   "cell_type": "markdown",
   "metadata": {},
   "source": [
    "\n",
    "<h2>Table of Contents</h2>\n",
    "<ol>\n",
    "    <li><a href=\"#language_modelling\">What exactly is Language Modelling?</a></li>\n",
    "    <li><a href=\"#treebank_dataset\">The Penn Treebank dataset</a></li>\n",
    "    <li><a href=\"#word_embedding\">Word Embedding</a></li>\n",
    "    <li><a href=\"#building_lstm_model\">Building the LSTM model for Language Modeling</a></li>\n",
    "    <li><a href=\"#ltsm\">LTSM</a></li>\n",
    "</ol>\n",
    "<p></p>\n",
    "</div>\n",
    "<br>\n"
   ]
  },
  {
   "cell_type": "markdown",
   "metadata": {},
   "source": [
    "--------\n"
   ]
  },
  {
   "cell_type": "markdown",
   "metadata": {},
   "source": [
    "<a id=\"language_modelling\"></a>\n",
    "<h2>What exactly is Language Modelling?</h2>\n",
    "Language Modelling, to put it simply, <b>is the task of assigning probabilities to sequences of words</b>. This means that, given a context of one or a sequence of words in the language the model was trained on, the model should provide the next most probable words or sequence of words that follows from the given sequence of words the sentence. Language Modelling is one of the most important tasks in Natural Language Processing.\n",
    "\n",
    "<img src=\"https://ibm.box.com/shared/static/1d1i5gub6wljby2vani2vzxp0xsph702.png\" width=\"1080\">\n",
    "<center><i>Example of a sentence being predicted</i></center>\n",
    "<br><br>\n",
    "In this example, one can see the predictions for the next word of a sentence, given the context \"This is an\". As you can see, this boils down to a sequential data analysis task -- you are given a word or a sequence of words (the input data), and, given the context (the state), you need to find out what is the next word (the prediction). This kind of analysis is very important for language-related tasks such as <b>Speech Recognition, Machine Translation, Image Captioning, Text Correction</b> and many other very relevant problems. \n",
    "\n",
    "<img src=\"https://ibm.box.com/shared/static/az39idf9ipfdpc5ugifpgxnydelhyf3i.png\" width=\"1080\">\n",
    "<center><i>The above example is a schema of an RNN in execution</i></center>\n",
    "<br><br>\n",
    "As the above image shows, Recurrent Network models fit this problem like a glove. Alongside LSTM and its capacity to maintain the model's state for over one thousand time steps, we have all the tools we need to undertake this problem. The goal for this notebook is to create a model that can reach <b>low levels of perplexity</b> on our desired dataset.\n",
    "\n",
    "For Language Modelling problems, <b>perplexity</b> is the way to gauge efficiency. Perplexity is simply a measure of how well a probabilistic model is able to predict its sample. A higher-level way to explain this would be saying that <b>low perplexity means a higher degree of trust in the predictions the model makes</b>. Therefore, the lower perplexity is, the better.\n"
   ]
  },
  {
   "cell_type": "markdown",
   "metadata": {},
   "source": [
    "<a id=\"treebank_dataset\"></a>\n",
    "<h2>The Penn Treebank dataset</h2>\n",
    "Historically, datasets big enough for Natural Language Processing are hard to come by. This is in part due to the necessity of the sentences to be broken down and tagged with a certain degree of correctness -- or else the models trained on it won't be able to be correct at all. This means that we need a <b>large amount of data, annotated by or at least corrected by humans</b>. This is, of course, not an easy task at all.\n",
    "\n",
    "The Penn Treebank, or PTB for short, is a dataset maintained by the University of Pennsylvania. It is <i>huge</i> -- there are over <b>four million and eight hundred thousand</b> annotated words in it, all corrected by humans. It is composed of many different sources, from abstracts of Department of Energy papers to texts from the Library of America. Since it is verifiably correct and of such a huge size, the Penn Treebank is commonly used as a benchmark dataset for Language Modelling.\n",
    "\n",
    "The dataset is divided in different kinds of annotations, such as Piece-of-Speech, Syntactic and Semantic skeletons. For this example, we will simply use a sample of clean, non-annotated words (with the exception of one tag --<code>&lt;unk&gt;</code>\n",
    ", which is used for rare words such as uncommon proper nouns) for our model. This means that we just want to predict what the next words would be, not what they mean in context or their classes on a given sentence.\n",
    "\n",
    "<center>Example of text from the dataset we are going to use, <b>ptb.train</b></center>\n",
    "<br><br>\n",
    "\n",
    "<div class=\"alert alert-block alert-info\" style=\"margin-top: 20px\">\n",
    "    <center>the percentage of lung cancer deaths among the workers at the west <code>&lt;unk&gt;</code> mass. paper factory appears to be the highest for any asbestos workers studied in western industrialized countries he said \n",
    " the plant which is owned by <code>&lt;unk&gt;</code> & <code>&lt;unk&gt;</code> co. was under contract with <code>&lt;unk&gt;</code> to make the cigarette filters \n",
    " the finding probably will support those who argue that the U.S. should regulate the class of asbestos including <code>&lt;unk&gt;</code> more <code>&lt;unk&gt;</code> than the common kind of asbestos <code>&lt;unk&gt;</code> found in most schools and other buildings dr. <code>&lt;unk&gt;</code> said</center>\n",
    "</div>\n"
   ]
  },
  {
   "cell_type": "markdown",
   "metadata": {},
   "source": [
    "<a id=\"word_embedding\"></a>\n",
    "<h2>Word Embeddings</h2><br/>\n",
    "\n",
    "For better processing, in this example, we will make use of <a href=\"https://www.tensorflow.org/tutorials/word2vec/?utm_medium=Exinfluencer&utm_source=Exinfluencer&utm_content=000026UJ&utm_term=10006555&utm_id=NA-SkillsNetwork-Channel-SkillsNetworkCoursesIBMDeveloperSkillsNetworkDL0120ENSkillsNetwork954-2023-01-01\"><b>word embeddings</b></a>, which is <b>a way of representing sentence structures or words as n-dimensional vectors (where n is a reasonably high number, such as 200 or 500) of real numbers</b>. Basically, we will assign each word a randomly-initialized vector, and input those into the network to be processed. After a number of iterations, these vectors are expected to assume values that help the network to correctly predict what it needs to -- in our case, the probable next word in the sentence. This is shown to be a very effective task in Natural Language Processing, and is a commonplace practice.\n",
    "<br><br>\n",
    "<font size=\"4\"><strong>\n",
    "$$Vec(\"Example\") = [0.02, 0.00, 0.00, 0.92, 0.30, \\ldots]$$\n",
    "</strong></font>\n",
    "<br>\n",
    "Word Embedding tends to group up similarly used words <i>reasonably</i> close together in the vectorial space. For example, if we use T-SNE (a dimensional reduction visualization algorithm) to flatten the dimensions of our vectors into a 2-dimensional space and plot these words in a 2-dimensional space, we might see something like this:\n",
    "\n",
    "<img src=\"https://ibm.box.com/shared/static/bqhc5dg879gcoabzhxra1w8rkg3od1cu.png\" width=\"800\">\n",
    "<center><i>T-SNE Mockup with clusters marked for easier visualization</i></center>\n",
    "<br><br>\n",
    "As you can see, words that are frequently used together, in place of each other, or in the same places as them tend to be grouped together -- being closer together the higher they are correlated. For example, \"None\" is pretty semantically close to \"Zero\", while a phrase that uses \"Italy\", you could probably also fit \"Germany\" in it, with little damage to the sentence structure. The vectorial \"closeness\" for similar words like this is a great indicator of a well-built model.\n",
    "\n",
    "<hr>\n",
    " \n"
   ]
  },
  {
   "cell_type": "markdown",
   "metadata": {},
   "source": [
    "We need to import the necessary modules for our code. We need <b><code>numpy</code></b> and <b><code>tensorflow</code></b>, obviously. Additionally, we can import directly the <b><code>tensorflow.models.rnn</code></b> model, which includes the function for building RNNs, and <b><code>tensorflow.models.rnn.ptb.reader</code></b> which is the helper module for getting the input data from the dataset we just downloaded.\n",
    "\n",
    "If you want to learn more take a look at https://github.com/tensorflow/models/blob/master/tutorials/rnn/ptb/reader.py\n"
   ]
  },
  {
   "cell_type": "code",
   "execution_count": 1,
   "metadata": {
    "tags": []
   },
   "outputs": [
    {
     "name": "stdout",
     "output_type": "stream",
     "text": [
      "Requirement already satisfied: tensorflow==2.9.0 in /home/jupyterlab/conda/envs/python/lib/python3.7/site-packages (2.9.0)\n",
      "Requirement already satisfied: absl-py>=1.0.0 in /home/jupyterlab/conda/envs/python/lib/python3.7/site-packages (from tensorflow==2.9.0) (1.4.0)\n",
      "Requirement already satisfied: astunparse>=1.6.0 in /home/jupyterlab/conda/envs/python/lib/python3.7/site-packages (from tensorflow==2.9.0) (1.6.3)\n",
      "Requirement already satisfied: flatbuffers<2,>=1.12 in /home/jupyterlab/conda/envs/python/lib/python3.7/site-packages (from tensorflow==2.9.0) (1.12)\n",
      "Requirement already satisfied: gast<=0.4.0,>=0.2.1 in /home/jupyterlab/conda/envs/python/lib/python3.7/site-packages (from tensorflow==2.9.0) (0.4.0)\n",
      "Requirement already satisfied: google-pasta>=0.1.1 in /home/jupyterlab/conda/envs/python/lib/python3.7/site-packages (from tensorflow==2.9.0) (0.2.0)\n",
      "Requirement already satisfied: grpcio<2.0,>=1.24.3 in /home/jupyterlab/conda/envs/python/lib/python3.7/site-packages (from tensorflow==2.9.0) (1.24.3)\n",
      "Requirement already satisfied: h5py>=2.9.0 in /home/jupyterlab/conda/envs/python/lib/python3.7/site-packages (from tensorflow==2.9.0) (3.8.0)\n",
      "Requirement already satisfied: keras<2.10.0,>=2.9.0rc0 in /home/jupyterlab/conda/envs/python/lib/python3.7/site-packages (from tensorflow==2.9.0) (2.9.0)\n",
      "Requirement already satisfied: keras-preprocessing>=1.1.1 in /home/jupyterlab/conda/envs/python/lib/python3.7/site-packages (from tensorflow==2.9.0) (1.1.2)\n",
      "Requirement already satisfied: libclang>=13.0.0 in /home/jupyterlab/conda/envs/python/lib/python3.7/site-packages (from tensorflow==2.9.0) (16.0.6)\n",
      "Requirement already satisfied: numpy>=1.20 in /home/jupyterlab/conda/envs/python/lib/python3.7/site-packages (from tensorflow==2.9.0) (1.21.6)\n",
      "Requirement already satisfied: opt-einsum>=2.3.2 in /home/jupyterlab/conda/envs/python/lib/python3.7/site-packages (from tensorflow==2.9.0) (3.3.0)\n",
      "Requirement already satisfied: packaging in /home/jupyterlab/conda/envs/python/lib/python3.7/site-packages (from tensorflow==2.9.0) (23.1)\n",
      "Requirement already satisfied: protobuf>=3.9.2 in /home/jupyterlab/conda/envs/python/lib/python3.7/site-packages (from tensorflow==2.9.0) (3.19.6)\n",
      "Requirement already satisfied: setuptools in /home/jupyterlab/conda/envs/python/lib/python3.7/site-packages (from tensorflow==2.9.0) (67.7.2)\n",
      "Requirement already satisfied: six>=1.12.0 in /home/jupyterlab/conda/envs/python/lib/python3.7/site-packages (from tensorflow==2.9.0) (1.16.0)\n",
      "Requirement already satisfied: tensorboard<2.10,>=2.9 in /home/jupyterlab/conda/envs/python/lib/python3.7/site-packages (from tensorflow==2.9.0) (2.9.1)\n",
      "Requirement already satisfied: tensorflow-io-gcs-filesystem>=0.23.1 in /home/jupyterlab/conda/envs/python/lib/python3.7/site-packages (from tensorflow==2.9.0) (0.32.0)\n",
      "Requirement already satisfied: tensorflow-estimator<2.10.0,>=2.9.0rc0 in /home/jupyterlab/conda/envs/python/lib/python3.7/site-packages (from tensorflow==2.9.0) (2.9.0)\n",
      "Requirement already satisfied: termcolor>=1.1.0 in /home/jupyterlab/conda/envs/python/lib/python3.7/site-packages (from tensorflow==2.9.0) (2.3.0)\n",
      "Requirement already satisfied: typing-extensions>=3.6.6 in /home/jupyterlab/conda/envs/python/lib/python3.7/site-packages (from tensorflow==2.9.0) (4.5.0)\n",
      "Requirement already satisfied: wrapt>=1.11.0 in /home/jupyterlab/conda/envs/python/lib/python3.7/site-packages (from tensorflow==2.9.0) (1.14.1)\n",
      "Requirement already satisfied: wheel<1.0,>=0.23.0 in /home/jupyterlab/conda/envs/python/lib/python3.7/site-packages (from astunparse>=1.6.0->tensorflow==2.9.0) (0.40.0)\n",
      "Requirement already satisfied: google-auth<3,>=1.6.3 in /home/jupyterlab/conda/envs/python/lib/python3.7/site-packages (from tensorboard<2.10,>=2.9->tensorflow==2.9.0) (2.22.0)\n",
      "Requirement already satisfied: google-auth-oauthlib<0.5,>=0.4.1 in /home/jupyterlab/conda/envs/python/lib/python3.7/site-packages (from tensorboard<2.10,>=2.9->tensorflow==2.9.0) (0.4.6)\n",
      "Requirement already satisfied: markdown>=2.6.8 in /home/jupyterlab/conda/envs/python/lib/python3.7/site-packages (from tensorboard<2.10,>=2.9->tensorflow==2.9.0) (3.4.3)\n",
      "Requirement already satisfied: requests<3,>=2.21.0 in /home/jupyterlab/conda/envs/python/lib/python3.7/site-packages (from tensorboard<2.10,>=2.9->tensorflow==2.9.0) (2.29.0)\n",
      "Requirement already satisfied: tensorboard-data-server<0.7.0,>=0.6.0 in /home/jupyterlab/conda/envs/python/lib/python3.7/site-packages (from tensorboard<2.10,>=2.9->tensorflow==2.9.0) (0.6.1)\n",
      "Requirement already satisfied: tensorboard-plugin-wit>=1.6.0 in /home/jupyterlab/conda/envs/python/lib/python3.7/site-packages (from tensorboard<2.10,>=2.9->tensorflow==2.9.0) (1.8.1)\n",
      "Requirement already satisfied: werkzeug>=1.0.1 in /home/jupyterlab/conda/envs/python/lib/python3.7/site-packages (from tensorboard<2.10,>=2.9->tensorflow==2.9.0) (2.2.3)\n",
      "Requirement already satisfied: cachetools<6.0,>=2.0.0 in /home/jupyterlab/conda/envs/python/lib/python3.7/site-packages (from google-auth<3,>=1.6.3->tensorboard<2.10,>=2.9->tensorflow==2.9.0) (5.3.1)\n",
      "Requirement already satisfied: pyasn1-modules>=0.2.1 in /home/jupyterlab/conda/envs/python/lib/python3.7/site-packages (from google-auth<3,>=1.6.3->tensorboard<2.10,>=2.9->tensorflow==2.9.0) (0.3.0)\n",
      "Requirement already satisfied: rsa<5,>=3.1.4 in /home/jupyterlab/conda/envs/python/lib/python3.7/site-packages (from google-auth<3,>=1.6.3->tensorboard<2.10,>=2.9->tensorflow==2.9.0) (4.9)\n",
      "Requirement already satisfied: urllib3<2.0 in /home/jupyterlab/conda/envs/python/lib/python3.7/site-packages (from google-auth<3,>=1.6.3->tensorboard<2.10,>=2.9->tensorflow==2.9.0) (1.26.15)\n",
      "Requirement already satisfied: requests-oauthlib>=0.7.0 in /home/jupyterlab/conda/envs/python/lib/python3.7/site-packages (from google-auth-oauthlib<0.5,>=0.4.1->tensorboard<2.10,>=2.9->tensorflow==2.9.0) (1.3.1)\n",
      "Requirement already satisfied: importlib-metadata>=4.4 in /home/jupyterlab/conda/envs/python/lib/python3.7/site-packages (from markdown>=2.6.8->tensorboard<2.10,>=2.9->tensorflow==2.9.0) (4.11.4)\n",
      "Requirement already satisfied: charset-normalizer<4,>=2 in /home/jupyterlab/conda/envs/python/lib/python3.7/site-packages (from requests<3,>=2.21.0->tensorboard<2.10,>=2.9->tensorflow==2.9.0) (3.1.0)\n",
      "Requirement already satisfied: idna<4,>=2.5 in /home/jupyterlab/conda/envs/python/lib/python3.7/site-packages (from requests<3,>=2.21.0->tensorboard<2.10,>=2.9->tensorflow==2.9.0) (3.4)\n",
      "Requirement already satisfied: certifi>=2017.4.17 in /home/jupyterlab/conda/envs/python/lib/python3.7/site-packages (from requests<3,>=2.21.0->tensorboard<2.10,>=2.9->tensorflow==2.9.0) (2023.5.7)\n",
      "Requirement already satisfied: MarkupSafe>=2.1.1 in /home/jupyterlab/conda/envs/python/lib/python3.7/site-packages (from werkzeug>=1.0.1->tensorboard<2.10,>=2.9->tensorflow==2.9.0) (2.1.1)\n",
      "Requirement already satisfied: zipp>=0.5 in /home/jupyterlab/conda/envs/python/lib/python3.7/site-packages (from importlib-metadata>=4.4->markdown>=2.6.8->tensorboard<2.10,>=2.9->tensorflow==2.9.0) (3.15.0)\n",
      "Requirement already satisfied: pyasn1<0.6.0,>=0.4.6 in /home/jupyterlab/conda/envs/python/lib/python3.7/site-packages (from pyasn1-modules>=0.2.1->google-auth<3,>=1.6.3->tensorboard<2.10,>=2.9->tensorflow==2.9.0) (0.5.0)\n",
      "Requirement already satisfied: oauthlib>=3.0.0 in /home/jupyterlab/conda/envs/python/lib/python3.7/site-packages (from requests-oauthlib>=0.7.0->google-auth-oauthlib<0.5,>=0.4.1->tensorboard<2.10,>=2.9->tensorflow==2.9.0) (3.2.2)\n",
      "Collecting numpy==1.21.4\n",
      "  Downloading numpy-1.21.4-cp37-cp37m-manylinux_2_12_x86_64.manylinux2010_x86_64.whl (15.7 MB)\n",
      "\u001b[2K     \u001b[90m━━━━━━━━━━━━━━━━━━━━━━━━━━━━━━━━━━━━━━━━\u001b[0m \u001b[32m15.7/15.7 MB\u001b[0m \u001b[31m59.8 MB/s\u001b[0m eta \u001b[36m0:00:00\u001b[0m00:01\u001b[0m00:01\u001b[0m\n",
      "\u001b[?25hInstalling collected packages: numpy\n",
      "  Attempting uninstall: numpy\n",
      "    Found existing installation: numpy 1.21.6\n",
      "    Uninstalling numpy-1.21.6:\n",
      "      Successfully uninstalled numpy-1.21.6\n",
      "Successfully installed numpy-1.21.4\n"
     ]
    }
   ],
   "source": [
    "!pip install tensorflow==2.9.0\n",
    "!pip install numpy==1.21.4\n"
   ]
  },
  {
   "cell_type": "code",
   "execution_count": 1,
   "metadata": {
    "tags": []
   },
   "outputs": [
    {
     "name": "stderr",
     "output_type": "stream",
     "text": [
      "2023-07-22 05:36:38.580643: I tensorflow/core/util/util.cc:169] oneDNN custom operations are on. You may see slightly different numerical results due to floating-point round-off errors from different computation orders. To turn them off, set the environment variable `TF_ENABLE_ONEDNN_OPTS=0`.\n",
      "2023-07-22 05:36:38.590211: W tensorflow/stream_executor/platform/default/dso_loader.cc:64] Could not load dynamic library 'libcudart.so.11.0'; dlerror: libcudart.so.11.0: cannot open shared object file: No such file or directory\n",
      "2023-07-22 05:36:38.590240: I tensorflow/stream_executor/cuda/cudart_stub.cc:29] Ignore above cudart dlerror if you do not have a GPU set up on your machine.\n"
     ]
    }
   ],
   "source": [
    "import time\n",
    "import numpy as np\n",
    "import tensorflow as tf\n",
    "if not tf.__version__ == '2.9.0':\n",
    "    print(tf.__version__)\n",
    "    raise ValueError('please upgrade to TensorFlow 2.9.0, or restart your Kernel (Kernel->Restart & Clear Output)')"
   ]
  },
  {
   "cell_type": "markdown",
   "metadata": {},
   "source": [
    "IMPORTANT! => Please restart the kernel by clicking on \"Kernel\"->\"Restart and Clear Outout\" and wait until all output disapears. Then your changes are beeing picked up\n"
   ]
  },
  {
   "cell_type": "code",
   "execution_count": null,
   "metadata": {},
   "outputs": [],
   "source": [
    "#!mkdir data\n",
    "#!mkdir data/ptb\n",
    "#!wget -q -O data/ptb/reader.py https://cf-courses-data.s3.us.cloud-object-storage.appdomain.cloud/IBMDeveloperSkillsNetwork-DL0120EN-SkillsNetwork/labs/Week3/data/ptb/reader.py\n",
    "#!cp data/ptb/reader.py .\n",
    "\n"
   ]
  },
  {
   "cell_type": "code",
   "execution_count": 2,
   "metadata": {
    "tags": []
   },
   "outputs": [],
   "source": [
    "# Copyright 2015 The TensorFlow Authors. All Rights Reserved.\n",
    "#\n",
    "# Licensed under the Apache License, Version 2.0 (the \"License\");\n",
    "# you may not use this file except in compliance with the License.\n",
    "# You may obtain a copy of the License at\n",
    "#\n",
    "#     http://www.apache.org/licenses/LICENSE-2.0\n",
    "#\n",
    "# Unless required by applicable law or agreed to in writing, software\n",
    "# distributed under the License is distributed on an \"AS IS\" BASIS,\n",
    "# WITHOUT WARRANTIES OR CONDITIONS OF ANY KIND, either express or implied.\n",
    "# See the License for the specific language governing permissions and\n",
    "# limitations under the License.\n",
    "# ==============================================================================\n",
    "\n",
    "\n",
    "\"\"\"Utilities for parsing PTB text files.\"\"\"\n",
    "from __future__ import absolute_import\n",
    "from __future__ import division\n",
    "from __future__ import print_function\n",
    "\n",
    "import collections\n",
    "import os\n",
    "\n",
    "import numpy as np\n",
    "import tensorflow as tf\n",
    "\n",
    "\n",
    "def _read_words(filename):\n",
    "  with tf.io.gfile.GFile(filename, \"r\") as f:\n",
    "    return f.read().replace(\"\\n\", \"<eos>\").split()\n",
    "\n",
    "\n",
    "def _build_vocab(filename):\n",
    "  data = _read_words(filename)\n",
    "\n",
    "  counter = collections.Counter(data)\n",
    "  count_pairs = sorted(counter.items(), key=lambda x: (-x[1], x[0]))\n",
    "\n",
    "  words, _ = list(zip(*count_pairs))\n",
    "  word_to_id = dict(zip(words, range(len(words))))\n",
    "\n",
    "  return word_to_id\n",
    "\n",
    "\n",
    "def _file_to_word_ids(filename, word_to_id):\n",
    "  data = _read_words(filename)\n",
    "  return [word_to_id[word] for word in data if word in word_to_id]\n",
    "\n",
    "\n",
    "def ptb_raw_data(data_path=None):\n",
    "  \"\"\"Load PTB raw data from data directory \"data_path\".\n",
    "\n",
    "  Reads PTB text files, converts strings to integer ids,\n",
    "  and performs mini-batching of the inputs.\n",
    "\n",
    "  The PTB dataset comes from Tomas Mikolov's webpage:\n",
    "\n",
    "  http://www.fit.vutbr.cz/~imikolov/rnnlm/simple-examples.tgz\n",
    "\n",
    "  Args:\n",
    "    data_path: string path to the directory where simple-examples.tgz has\n",
    "      been extracted.\n",
    "\n",
    "  Returns:\n",
    "    tuple (train_data, valid_data, test_data, vocabulary)\n",
    "    where each of the data objects can be passed to PTBIterator.\n",
    "  \"\"\"\n",
    "\n",
    "  train_path = os.path.join(data_path, \"ptb.train.txt\")\n",
    "  valid_path = os.path.join(data_path, \"ptb.valid.txt\")\n",
    "  test_path = os.path.join(data_path, \"ptb.test.txt\")\n",
    "\n",
    "  word_to_id = _build_vocab(train_path)\n",
    "  train_data = _file_to_word_ids(train_path, word_to_id)\n",
    "  valid_data = _file_to_word_ids(valid_path, word_to_id)\n",
    "  test_data = _file_to_word_ids(test_path, word_to_id)\n",
    "  vocabulary = len(word_to_id)\n",
    "  return train_data, valid_data, test_data, vocabulary, word_to_id\n",
    "\n",
    "\n",
    "def ptb_iterator(raw_data, batch_size, num_steps):\n",
    "  \"\"\"Iterate on the raw PTB data.\n",
    "\n",
    "  This generates batch_size pointers into the raw PTB data, and allows\n",
    "  minibatch iteration along these pointers.\n",
    "\n",
    "  Args:\n",
    "    raw_data: one of the raw data outputs from ptb_raw_data.\n",
    "    batch_size: int, the batch size.\n",
    "    num_steps: int, the number of unrolls.\n",
    "\n",
    "  Yields:\n",
    "    Pairs of the batched data, each a matrix of shape [batch_size, num_steps].\n",
    "    The second element of the tuple is the same data time-shifted to the\n",
    "    right by one.\n",
    "\n",
    "  Raises:\n",
    "    ValueError: if batch_size or num_steps are too high.\n",
    "  \"\"\"\n",
    "  raw_data = np.array(raw_data, dtype=np.int32)\n",
    "\n",
    "  data_len = len(raw_data)\n",
    "  batch_len = data_len // batch_size\n",
    "  data = np.zeros([batch_size, batch_len], dtype=np.int32)\n",
    "  for i in range(batch_size):\n",
    "    data[i] = raw_data[batch_len * i:batch_len * (i + 1)]\n",
    "\n",
    "  epoch_size = (batch_len - 1) // num_steps\n",
    "\n",
    "  if epoch_size == 0:\n",
    "    raise ValueError(\"epoch_size == 0, decrease batch_size or num_steps\")\n",
    "\n",
    "  for i in range(epoch_size):\n",
    "    x = data[:, i*num_steps:(i+1)*num_steps]\n",
    "    y = data[:, i*num_steps+1:(i+1)*num_steps+1]\n",
    "    yield (x, y)"
   ]
  },
  {
   "cell_type": "markdown",
   "metadata": {},
   "source": [
    "<a id=\"building_lstm_model\"></a>\n",
    "<h2>Building the LSTM model for Language Modeling</h2>\n",
    "Now that we know exactly what we are doing, we can start building our model using TensorFlow. The very first thing we need to do is download and extract the <code>simple-examples</code> dataset, which can be done by executing the code cell below.\n"
   ]
  },
  {
   "cell_type": "code",
   "execution_count": 3,
   "metadata": {
    "tags": []
   },
   "outputs": [
    {
     "name": "stdout",
     "output_type": "stream",
     "text": [
      "--2023-07-22 05:36:59--  http://www.fit.vutbr.cz/~imikolov/rnnlm/simple-examples.tgz\n",
      "Resolving www.fit.vutbr.cz (www.fit.vutbr.cz)... 147.229.9.23, 2001:67c:1220:809::93e5:917\n",
      "Connecting to www.fit.vutbr.cz (www.fit.vutbr.cz)|147.229.9.23|:80... connected.\n",
      "HTTP request sent, awaiting response... 200 OK\n",
      "Length: 34869662 (33M) [application/x-gtar]\n",
      "Saving to: ‘simple-examples.tgz.1’\n",
      "\n",
      "simple-examples.tgz 100%[===================>]  33.25M  8.73MB/s    in 3.8s    \n",
      "\n",
      "2023-07-22 05:37:03 (8.73 MB/s) - ‘simple-examples.tgz.1’ saved [34869662/34869662]\n",
      "\n",
      "tar: data: Cannot open: No such file or directory\n",
      "tar: Error is not recoverable: exiting now\n"
     ]
    }
   ],
   "source": [
    "!wget http://www.fit.vutbr.cz/~imikolov/rnnlm/simple-examples.tgz \n",
    "!tar xzf simple-examples.tgz -C data/"
   ]
  },
  {
   "cell_type": "code",
   "execution_count": 8,
   "metadata": {
    "tags": []
   },
   "outputs": [],
   "source": [
    "!tar xzf simple-examples.tgz -C data/"
   ]
  },
  {
   "cell_type": "markdown",
   "metadata": {},
   "source": [
    "Additionally, for the sake of making it easy to play around with the model's hyperparameters, we can declare them beforehand. Feel free to change these -- you will see a difference in performance each time you change those!  \n"
   ]
  },
  {
   "cell_type": "code",
   "execution_count": 4,
   "metadata": {
    "tags": []
   },
   "outputs": [],
   "source": [
    "#Initial weight scale\n",
    "init_scale = 0.1\n",
    "#Initial learning rate\n",
    "learning_rate = 1.0\n",
    "#Maximum permissible norm for the gradient (For gradient clipping -- another measure against Exploding Gradients)\n",
    "max_grad_norm = 5\n",
    "#The number of layers in our model\n",
    "num_layers = 2\n",
    "#The total number of recurrence steps, also known as the number of layers when our RNN is \"unfolded\"\n",
    "num_steps = 20\n",
    "#The number of processing units (neurons) in the hidden layers\n",
    "hidden_size_l1 = 256\n",
    "hidden_size_l2 = 128\n",
    "#The maximum number of epochs trained with the initial learning rate\n",
    "max_epoch_decay_lr = 4\n",
    "#The total number of epochs in training\n",
    "max_epoch = 15\n",
    "#The probability for keeping data in the Dropout Layer (This is an optimization, but is outside our scope for this notebook!)\n",
    "#At 1, we ignore the Dropout Layer wrapping.\n",
    "keep_prob = 1\n",
    "#The decay for the learning rate\n",
    "decay = 0.5\n",
    "#The size for each batch of data\n",
    "batch_size = 30\n",
    "#The size of our vocabulary\n",
    "vocab_size = 10000\n",
    "embeding_vector_size= 200\n",
    "#Training flag to separate training from testing\n",
    "is_training = 1\n",
    "#Data directory for our dataset\n",
    "data_dir = \"data/simple-examples/data/\""
   ]
  },
  {
   "cell_type": "markdown",
   "metadata": {},
   "source": [
    "Some clarifications for LSTM architecture based on the arguments:\n",
    "\n",
    "Network structure:\n",
    "<ul>\n",
    "    <li>In this network, the number of LSTM cells are 2. To give the model more expressive power, we can add multiple layers of LSTMs to process the data. The output of the first layer will become the input of the second and so on.\n",
    "    </li>\n",
    "    <li>The recurrence steps is 20, that is, when our RNN is \"Unfolded\", the recurrence step is 20.</li>   \n",
    "    <li>the structure is like:\n",
    "        <ul>\n",
    "            <li>200 input units -> [200x200] Weight -> 200 Hidden units (first layer) -> [200x200] Weight matrix  -> 200 Hidden units (second layer) ->  [200] weight Matrix -> 200 unit output</li>\n",
    "        </ul>\n",
    "    </li>\n",
    "</ul>\n",
    "<br>\n",
    "\n",
    "Input layer: \n",
    "<ul>\n",
    "    <li>The network has 200 input units.</li>\n",
    "    <li>Suppose each word is represented by an embedding vector of dimensionality e=200. The input layer of each cell will have 200 linear units. These e=200 linear units are connected to each of the h=200 LSTM units in the hidden layer (assuming there is only one hidden layer, though our case has 2 layers).\n",
    "    </li>\n",
    "    <li>The input shape is [batch_size, num_steps], that is [30x20]. It will turn into [30x20x200] after embedding, and then 20x[30x200]\n",
    "    </li>\n",
    "</ul>\n",
    "<br>\n",
    "\n",
    "Hidden layer:\n",
    "<ul>\n",
    "    <li>Each LSTM has 200 hidden units which is equivalent to the dimensionality of the embedding words and output.</li>\n",
    "</ul>\n",
    "<br>\n"
   ]
  },
  {
   "cell_type": "markdown",
   "metadata": {},
   "source": [
    "There is a lot to be done and a ton of information to process at the same time, so go over this code slowly. It may seem complex at first, but if you try to apply what you just learned about language modelling to the code you see, you should be able to understand it.\n",
    "\n",
    "This code is adapted from the <a href=\"https://github.com/tensorflow/models\">PTBModel</a> example bundled with the TensorFlow source code.\n",
    "\n",
    "\n",
    "<h3>Training data</h3>\n",
    "The story starts from data:\n",
    "<ul>\n",
    "    <li>Train data is a list of words, of size 929589, represented by numbers, e.g. [9971, 9972, 9974, 9975,...]</li>\n",
    "    <li>We read data as mini-batch of size b=30. Assume the size of each sentence is 20 words (num_steps = 20). Then it will take $$floor(\\frac{N}{b \\times h})+1=1548$$ iterations for the learner to go through all sentences once. Where N is the size of the list of words, b is batch size, and h is size of each sentence. So, the number of iterators is 1548\n",
    "    </li>\n",
    "    <li>Each batch data is read from train dataset of size 600, and shape of [30x20]</li>\n",
    "</ul>\n"
   ]
  },
  {
   "cell_type": "code",
   "execution_count": 9,
   "metadata": {
    "tags": []
   },
   "outputs": [],
   "source": [
    "# Reads the data and separates it into training data, validation data and testing data\n",
    "raw_data = ptb_raw_data(data_dir)\n",
    "train_data, valid_data, test_data, vocab, word_to_id = raw_data"
   ]
  },
  {
   "cell_type": "code",
   "execution_count": 10,
   "metadata": {
    "tags": []
   },
   "outputs": [
    {
     "data": {
      "text/plain": [
       "929589"
      ]
     },
     "execution_count": 10,
     "metadata": {},
     "output_type": "execute_result"
    }
   ],
   "source": [
    "len(train_data)"
   ]
  },
  {
   "cell_type": "code",
   "execution_count": 11,
   "metadata": {
    "tags": []
   },
   "outputs": [
    {
     "name": "stdout",
     "output_type": "stream",
     "text": [
      "['aer', 'banknote', 'berlitz', 'calloway', 'centrust', 'cluett', 'fromstein', 'gitano', 'guterman', 'hydro-quebec', 'ipo', 'kia', 'memotec', 'mlx', 'nahb', 'punts', 'rake', 'regatta', 'rubens', 'sim', 'snack-food', 'ssangyong', 'swapo', 'wachter', '<eos>', 'pierre', '<unk>', 'N', 'years', 'old', 'will', 'join', 'the', 'board', 'as', 'a', 'nonexecutive', 'director', 'nov.', 'N', '<eos>', 'mr.', '<unk>', 'is', 'chairman', 'of', '<unk>', 'n.v.', 'the', 'dutch', 'publishing', 'group', '<eos>', 'rudolph', '<unk>', 'N', 'years', 'old', 'and', 'former', 'chairman', 'of', 'consolidated', 'gold', 'fields', 'plc', 'was', 'named', 'a', 'nonexecutive', 'director', 'of', 'this', 'british', 'industrial', 'conglomerate', '<eos>', 'a', 'form', 'of', 'asbestos', 'once', 'used', 'to', 'make', 'kent', 'cigarette', 'filters', 'has', 'caused', 'a', 'high', 'percentage', 'of', 'cancer', 'deaths', 'among', 'a', 'group', 'of']\n"
     ]
    }
   ],
   "source": [
    "def id_to_word(id_list):\n",
    "    line = []\n",
    "    for w in id_list:\n",
    "        for word, wid in word_to_id.items():\n",
    "            if wid == w:\n",
    "                line.append(word)\n",
    "    return line            \n",
    "                \n",
    "\n",
    "print(id_to_word(train_data[0:100]))"
   ]
  },
  {
   "cell_type": "markdown",
   "metadata": {},
   "source": [
    "Lets just read one mini-batch now and feed our network:\n"
   ]
  },
  {
   "cell_type": "code",
   "execution_count": 12,
   "metadata": {
    "tags": []
   },
   "outputs": [],
   "source": [
    "itera = ptb_iterator(train_data, batch_size, num_steps)\n",
    "first_touple = itera.__next__()\n",
    "_input_data = first_touple[0]\n",
    "_targets = first_touple[1]"
   ]
  },
  {
   "cell_type": "code",
   "execution_count": 13,
   "metadata": {
    "tags": []
   },
   "outputs": [
    {
     "data": {
      "text/plain": [
       "(30, 20)"
      ]
     },
     "execution_count": 13,
     "metadata": {},
     "output_type": "execute_result"
    }
   ],
   "source": [
    "_input_data.shape"
   ]
  },
  {
   "cell_type": "code",
   "execution_count": 14,
   "metadata": {
    "tags": []
   },
   "outputs": [
    {
     "data": {
      "text/plain": [
       "(30, 20)"
      ]
     },
     "execution_count": 14,
     "metadata": {},
     "output_type": "execute_result"
    }
   ],
   "source": [
    "_targets.shape"
   ]
  },
  {
   "cell_type": "markdown",
   "metadata": {},
   "source": [
    "Lets look at 3 sentences of our input x:\n"
   ]
  },
  {
   "cell_type": "code",
   "execution_count": 15,
   "metadata": {
    "tags": []
   },
   "outputs": [
    {
     "data": {
      "text/plain": [
       "array([[9970, 9971, 9972, 9974, 9975, 9976, 9980, 9981, 9982, 9983, 9984,\n",
       "        9986, 9987, 9988, 9989, 9991, 9992, 9993, 9994, 9995],\n",
       "       [2654,    6,  334, 2886,    4,    1,  233,  711,  834,   11,  130,\n",
       "         123,    7,  514,    2,   63,   10,  514,    8,  605],\n",
       "       [   0, 1071,    4,    0,  185,   24,  368,   20,   31, 3109,  954,\n",
       "          12,    3,   21,    2, 2915,    2,   12,    3,   21]],\n",
       "      dtype=int32)"
      ]
     },
     "execution_count": 15,
     "metadata": {},
     "output_type": "execute_result"
    }
   ],
   "source": [
    "_input_data[0:3]"
   ]
  },
  {
   "cell_type": "code",
   "execution_count": 16,
   "metadata": {
    "tags": []
   },
   "outputs": [
    {
     "name": "stdout",
     "output_type": "stream",
     "text": [
      "['aer', 'banknote', 'berlitz', 'calloway', 'centrust', 'cluett', 'fromstein', 'gitano', 'guterman', 'hydro-quebec', 'ipo', 'kia', 'memotec', 'mlx', 'nahb', 'punts', 'rake', 'regatta', 'rubens', 'sim']\n"
     ]
    }
   ],
   "source": [
    "print(id_to_word(_input_data[0,:]))"
   ]
  },
  {
   "cell_type": "markdown",
   "metadata": {},
   "source": [
    "<h3>Embeddings</h3>\n",
    "We have to convert the words in our dataset to vectors of numbers. The traditional approach is to use one-hot encoding method that is usually used for converting categorical values to numerical values. However, One-hot encoded vectors are high-dimensional, sparse and in a big dataset, computationally inefficient. So, we use word2vec approach. It is, in fact, a layer in our LSTM network, where the word IDs will be represented as a dense representation before feeding to the LSTM. \n",
    "\n",
    "The embedded vectors also get updated during the training process of the deep neural network.\n",
    "We create the embeddings for our input data. <b>embedding_vocab</b> is matrix of [10000x200] for all 10000 unique words.\n"
   ]
  },
  {
   "cell_type": "markdown",
   "metadata": {},
   "source": [
    "<b>embedding_lookup()</b> finds the embedded values for our batch of 30x20 words. It  goes to each row of <code>input_data</code>, and for each word in the row/sentence, finds the correspond vector in <code>embedding_dic<code>. <br>\n",
    "It creates a [30x20x200] tensor, so, the first element of <b>inputs</b> (the first sentence), is a matrix of 20x200, which each row of it, is vector representing a word in the sentence.\n"
   ]
  },
  {
   "cell_type": "code",
   "execution_count": 17,
   "metadata": {
    "tags": []
   },
   "outputs": [],
   "source": [
    "embedding_layer = tf.keras.layers.Embedding(vocab_size, embeding_vector_size,batch_input_shape=(batch_size, num_steps),trainable=True,name=\"embedding_vocab\")  "
   ]
  },
  {
   "cell_type": "code",
   "execution_count": 18,
   "metadata": {
    "tags": []
   },
   "outputs": [
    {
     "name": "stderr",
     "output_type": "stream",
     "text": [
      "2023-07-22 05:39:30.624286: W tensorflow/stream_executor/platform/default/dso_loader.cc:64] Could not load dynamic library 'libcuda.so.1'; dlerror: libcuda.so.1: cannot open shared object file: No such file or directory\n",
      "2023-07-22 05:39:30.624368: W tensorflow/stream_executor/cuda/cuda_driver.cc:269] failed call to cuInit: UNKNOWN ERROR (303)\n",
      "2023-07-22 05:39:30.624417: I tensorflow/stream_executor/cuda/cuda_diagnostics.cc:156] kernel driver does not appear to be running on this host (jupyterlab-aaronfongcsu): /proc/driver/nvidia/version does not exist\n",
      "2023-07-22 05:39:30.625032: I tensorflow/core/platform/cpu_feature_guard.cc:193] This TensorFlow binary is optimized with oneAPI Deep Neural Network Library (oneDNN) to use the following CPU instructions in performance-critical operations:  AVX2 AVX512F AVX512_VNNI FMA\n",
      "To enable them in other operations, rebuild TensorFlow with the appropriate compiler flags.\n"
     ]
    },
    {
     "data": {
      "text/plain": [
       "<tf.Tensor: shape=(30, 20, 200), dtype=float32, numpy=\n",
       "array([[[-6.59892708e-03, -3.20609435e-02, -2.22174525e-02, ...,\n",
       "         -9.73609835e-03,  3.68184783e-02, -4.21757810e-02],\n",
       "        [ 8.63699988e-03, -2.67878659e-02, -3.54491696e-02, ...,\n",
       "          8.66314024e-03,  3.80302928e-02,  4.68896143e-02],\n",
       "        [-4.27099317e-03, -2.38448866e-02,  3.11692022e-02, ...,\n",
       "          4.73538898e-02, -1.74030550e-02,  1.02218986e-02],\n",
       "        ...,\n",
       "        [-1.54366978e-02, -2.49404553e-02, -4.90081310e-02, ...,\n",
       "          4.42314483e-02,  7.65506178e-03,  3.29319127e-02],\n",
       "        [-4.03020866e-02, -2.85107493e-02,  2.14423276e-02, ...,\n",
       "         -3.26443464e-02,  4.27965634e-02, -1.19019970e-02],\n",
       "        [-4.75544706e-02, -3.17528620e-02,  4.71314825e-02, ...,\n",
       "         -1.22908950e-02, -5.99826500e-03, -2.19905507e-02]],\n",
       "\n",
       "       [[ 2.38730796e-02,  1.15669593e-02,  4.85652126e-02, ...,\n",
       "          2.59902366e-02, -3.69640477e-02, -2.33211648e-02],\n",
       "        [ 6.39033318e-03, -1.47586949e-02, -7.69740343e-03, ...,\n",
       "         -4.98818420e-02,  1.38475932e-02, -2.98107509e-02],\n",
       "        [ 2.84491666e-02, -3.69614139e-02, -2.84447204e-02, ...,\n",
       "         -3.02138180e-03, -1.56360269e-02,  4.86423634e-02],\n",
       "        ...,\n",
       "        [-3.78506258e-03,  3.07364799e-02,  1.48437135e-02, ...,\n",
       "         -4.37479280e-02,  1.70273446e-02,  4.83196639e-02],\n",
       "        [-2.47712266e-02,  3.76808681e-02,  1.42717846e-02, ...,\n",
       "         -2.95195822e-02,  4.47204448e-02,  4.08481248e-02],\n",
       "        [ 2.11102031e-02,  1.53805129e-02, -3.30906287e-02, ...,\n",
       "          4.95953299e-02,  4.14813422e-02,  2.09541805e-02]],\n",
       "\n",
       "       [[-2.60580666e-02,  8.50867480e-04,  4.86627482e-02, ...,\n",
       "         -2.62323264e-02,  3.68040539e-02,  8.82988051e-03],\n",
       "        [ 2.63729580e-02, -4.35419194e-02, -4.93296646e-02, ...,\n",
       "          4.48241942e-02,  6.16535544e-05, -9.56476852e-03],\n",
       "        [-1.96803566e-02,  7.84449652e-03,  3.03813256e-02, ...,\n",
       "          6.25603274e-03, -3.86704318e-02, -1.77833065e-02],\n",
       "        ...,\n",
       "        [ 3.56565602e-02, -4.30654287e-02,  4.64985706e-02, ...,\n",
       "         -4.30075303e-02, -1.35870352e-02, -2.35232841e-02],\n",
       "        [-2.54052412e-02, -1.45006999e-02, -2.25213766e-02, ...,\n",
       "         -2.56026741e-02, -4.20902967e-02, -2.24258061e-02],\n",
       "        [-2.34107859e-02,  4.35036086e-02, -4.16486859e-02, ...,\n",
       "         -4.28534523e-02, -2.47753616e-02, -6.84633851e-05]],\n",
       "\n",
       "       ...,\n",
       "\n",
       "       [[ 3.73553075e-02,  2.03713886e-02,  3.03294510e-03, ...,\n",
       "          4.68886383e-02, -3.46043110e-02, -3.39839347e-02],\n",
       "        [-2.67649647e-02,  1.73031166e-03, -4.75704670e-04, ...,\n",
       "          4.93861735e-04, -1.23672485e-02,  4.32041995e-02],\n",
       "        [-8.01861286e-04, -5.54575771e-03, -4.24429439e-02, ...,\n",
       "          1.71405785e-02, -1.04773045e-02, -1.13084204e-02],\n",
       "        ...,\n",
       "        [ 2.78947987e-02, -3.62499803e-03,  4.75571491e-02, ...,\n",
       "          2.16060616e-02,  4.92743142e-02, -3.11277397e-02],\n",
       "        [-1.31771080e-02, -1.29804127e-02,  4.55089919e-02, ...,\n",
       "          2.78089903e-02, -2.55811960e-04, -3.76394019e-02],\n",
       "        [-8.67873430e-03,  6.56403601e-04,  2.42694058e-02, ...,\n",
       "         -3.98084894e-02,  2.34445445e-02,  4.36334945e-02]],\n",
       "\n",
       "       [[-4.54973951e-02,  3.09993736e-02,  3.27026285e-02, ...,\n",
       "          4.63500135e-02, -1.21857896e-02, -7.85065815e-03],\n",
       "        [-4.58414480e-03, -2.55976319e-02,  1.60981901e-02, ...,\n",
       "          4.60138060e-02, -6.62158802e-03, -4.57732789e-02],\n",
       "        [-1.96803566e-02,  7.84449652e-03,  3.03813256e-02, ...,\n",
       "          6.25603274e-03, -3.86704318e-02, -1.77833065e-02],\n",
       "        ...,\n",
       "        [-4.20742631e-02, -9.29988921e-04, -2.06411835e-02, ...,\n",
       "         -2.08190084e-02, -6.87928125e-03,  3.58430184e-02],\n",
       "        [ 6.39033318e-03, -1.47586949e-02, -7.69740343e-03, ...,\n",
       "         -4.98818420e-02,  1.38475932e-02, -2.98107509e-02],\n",
       "        [-2.72451527e-02,  2.44873799e-02,  1.31722949e-02, ...,\n",
       "          1.48125552e-02,  2.93134488e-02,  5.28880209e-03]],\n",
       "\n",
       "       [[ 3.22673433e-02, -5.49327210e-03,  4.55596559e-02, ...,\n",
       "          6.81234524e-03,  4.56806272e-03, -1.27579458e-02],\n",
       "        [ 1.31032504e-02, -1.21166557e-03, -1.24751404e-03, ...,\n",
       "          4.22468036e-03, -4.81526032e-02,  9.35380533e-03],\n",
       "        [-2.16869116e-02, -4.70914729e-02,  1.91766135e-02, ...,\n",
       "         -3.25504169e-02, -2.47302055e-02,  2.43811272e-02],\n",
       "        ...,\n",
       "        [-6.52897358e-03,  2.47083195e-02,  1.76087134e-02, ...,\n",
       "         -4.68551517e-02, -5.33701107e-03,  4.09401692e-02],\n",
       "        [ 4.12691869e-02,  7.75786489e-03, -4.58974838e-02, ...,\n",
       "          2.01705806e-02, -1.55619271e-02, -2.37279180e-02],\n",
       "        [-4.26968448e-02, -4.63605039e-02,  3.00689973e-02, ...,\n",
       "         -3.48407514e-02, -9.62204859e-03, -4.62074988e-02]]],\n",
       "      dtype=float32)>"
      ]
     },
     "execution_count": 18,
     "metadata": {},
     "output_type": "execute_result"
    }
   ],
   "source": [
    "# Define where to get the data for our embeddings from\n",
    "inputs = embedding_layer(_input_data)\n",
    "inputs"
   ]
  },
  {
   "cell_type": "markdown",
   "metadata": {},
   "source": [
    "<h3>Constructing Recurrent Neural Networks</h3>\n"
   ]
  },
  {
   "cell_type": "markdown",
   "metadata": {},
   "source": [
    "In this step, we create the stacked LSTM using <b>tf.keras.layers.StackedRNNCells</b>, which is a 2 layer LSTM network:\n"
   ]
  },
  {
   "cell_type": "code",
   "execution_count": 19,
   "metadata": {
    "tags": []
   },
   "outputs": [],
   "source": [
    "lstm_cell_l1 = tf.keras.layers.LSTMCell(hidden_size_l1)\n",
    "lstm_cell_l2 = tf.keras.layers.LSTMCell(hidden_size_l2)"
   ]
  },
  {
   "cell_type": "code",
   "execution_count": 20,
   "metadata": {
    "tags": []
   },
   "outputs": [],
   "source": [
    "stacked_lstm = tf.keras.layers.StackedRNNCells([lstm_cell_l1, lstm_cell_l2])"
   ]
  },
  {
   "cell_type": "markdown",
   "metadata": {},
   "source": [
    "<b>tf.keras.layers.RNN</b> creates a recurrent neural network using <b>stacked_lstm</b>. \n",
    "\n",
    "The input should be a Tensor of shape: [batch_size, max_time, embedding_vector_size], in our case it would be (30, 20, 200)\n"
   ]
  },
  {
   "cell_type": "code",
   "execution_count": 21,
   "metadata": {
    "tags": []
   },
   "outputs": [],
   "source": [
    "layer  =  tf.keras.layers.RNN(stacked_lstm,[batch_size, num_steps],return_state=False,stateful=True,trainable=True)"
   ]
  },
  {
   "cell_type": "markdown",
   "metadata": {},
   "source": [
    "Also, we initialize the states of the nework:\n",
    "\n",
    "<h4>_initial_state</h4>\n",
    "\n",
    "For each LSTM, there are 2 state matrices, c\\_state and m\\_state.  c_state and m_state represent \"Memory State\" and \"Cell State\". Each hidden layer, has a vector of size 30, which keeps the states. so, for 200 hidden units in each LSTM, we have a matrix of size [30x200]\n"
   ]
  },
  {
   "cell_type": "code",
   "execution_count": 22,
   "metadata": {
    "tags": []
   },
   "outputs": [],
   "source": [
    "init_state = tf.Variable(tf.zeros([batch_size,embeding_vector_size]),trainable=False)"
   ]
  },
  {
   "cell_type": "code",
   "execution_count": 23,
   "metadata": {
    "tags": []
   },
   "outputs": [],
   "source": [
    "layer.inital_state = init_state"
   ]
  },
  {
   "cell_type": "code",
   "execution_count": 24,
   "metadata": {
    "tags": []
   },
   "outputs": [
    {
     "data": {
      "text/plain": [
       "<tf.Variable 'Variable:0' shape=(30, 200) dtype=float32, numpy=\n",
       "array([[0., 0., 0., ..., 0., 0., 0.],\n",
       "       [0., 0., 0., ..., 0., 0., 0.],\n",
       "       [0., 0., 0., ..., 0., 0., 0.],\n",
       "       ...,\n",
       "       [0., 0., 0., ..., 0., 0., 0.],\n",
       "       [0., 0., 0., ..., 0., 0., 0.],\n",
       "       [0., 0., 0., ..., 0., 0., 0.]], dtype=float32)>"
      ]
     },
     "execution_count": 24,
     "metadata": {},
     "output_type": "execute_result"
    }
   ],
   "source": [
    "layer.inital_state"
   ]
  },
  {
   "cell_type": "markdown",
   "metadata": {},
   "source": [
    "so, lets look at the outputs. The output of the stackedLSTM comes from 128 hidden_layer, and in each time step(=20), one of them get activated. we use the linear activation to map the 128 hidden layer to a [30X20 matrix]\n"
   ]
  },
  {
   "cell_type": "code",
   "execution_count": 25,
   "metadata": {
    "tags": []
   },
   "outputs": [],
   "source": [
    "outputs = layer(inputs)"
   ]
  },
  {
   "cell_type": "code",
   "execution_count": 26,
   "metadata": {
    "tags": []
   },
   "outputs": [
    {
     "data": {
      "text/plain": [
       "<tf.Tensor: shape=(30, 20, 128), dtype=float32, numpy=\n",
       "array([[[ 1.1555829e-04, -8.9295307e-04,  9.1647516e-06, ...,\n",
       "          7.8636780e-04,  1.5474455e-03,  9.8162540e-04],\n",
       "        [-9.6340507e-04, -2.0117464e-03,  2.5502869e-04, ...,\n",
       "         -6.6929200e-04,  1.1602003e-03, -1.0118540e-05],\n",
       "        [-1.4543228e-03, -1.9672203e-03,  5.0039694e-04, ...,\n",
       "          1.9379320e-04,  5.3696334e-04, -3.4559413e-04],\n",
       "        ...,\n",
       "        [ 3.0031167e-03,  3.5873493e-03, -3.0850191e-03, ...,\n",
       "          4.4517749e-04, -1.3999407e-03, -6.6438509e-04],\n",
       "        [ 2.3019733e-03,  4.1697677e-03, -3.4911307e-03, ...,\n",
       "         -5.4620072e-04, -2.5303441e-03, -2.5178306e-03],\n",
       "        [-1.4095659e-04,  5.3110505e-03, -2.4346183e-03, ...,\n",
       "         -3.7633054e-04, -2.8600723e-03, -4.7876220e-03]],\n",
       "\n",
       "       [[ 2.1800241e-03, -1.5297354e-03,  5.5911507e-05, ...,\n",
       "          1.2319924e-03, -3.9257939e-04,  1.1874447e-03],\n",
       "        [ 3.8504093e-03, -2.2103635e-03, -2.2924192e-04, ...,\n",
       "          9.6655684e-05, -3.1798592e-04,  5.9605209e-04],\n",
       "        [ 2.9640570e-03, -3.7669474e-03, -8.3810577e-05, ...,\n",
       "         -1.8596589e-03,  1.7881112e-03,  9.2541717e-04],\n",
       "        ...,\n",
       "        [-8.0420738e-03,  2.7824903e-03,  2.7869707e-03, ...,\n",
       "         -2.6279755e-03, -1.8145721e-03, -2.4515016e-03],\n",
       "        [-5.5274684e-03,  3.6504122e-03,  6.6517538e-04, ...,\n",
       "         -2.0559051e-03, -1.8238625e-03, -3.5113064e-03],\n",
       "        [-4.3589734e-03,  4.1203853e-03, -8.2166505e-04, ...,\n",
       "         -9.3749491e-04, -3.2600053e-04, -4.1285711e-03]],\n",
       "\n",
       "       [[ 1.0510663e-03,  2.6010734e-04,  4.8876047e-04, ...,\n",
       "         -4.4935694e-04, -2.3448352e-04,  1.5439950e-04],\n",
       "        [-3.2628007e-04,  3.7300788e-04,  9.2594099e-04, ...,\n",
       "         -9.4893068e-04, -9.7287277e-04, -5.4461038e-04],\n",
       "        [-1.6574368e-03,  3.7921185e-04,  5.1097863e-04, ...,\n",
       "         -8.4469946e-05, -1.0506486e-03,  1.1048728e-03],\n",
       "        ...,\n",
       "        [-5.6599844e-03, -8.0939149e-04,  6.0266573e-03, ...,\n",
       "          5.0406107e-03,  8.3504301e-03,  3.6117090e-03],\n",
       "        [-4.3973457e-03, -1.3584463e-03,  5.8354316e-03, ...,\n",
       "          4.4838507e-03,  9.1156755e-03,  4.0360023e-03],\n",
       "        [-4.1884230e-03, -2.2597923e-03,  5.7105245e-03, ...,\n",
       "          4.0413849e-03,  9.9063246e-03,  3.2326709e-03]],\n",
       "\n",
       "       ...,\n",
       "\n",
       "       [[ 8.6227257e-04, -9.5118722e-04,  7.1918097e-04, ...,\n",
       "         -2.0304827e-04,  2.5589557e-04,  6.5747957e-04],\n",
       "        [-3.5966808e-04, -1.4351530e-03,  1.2069725e-03, ...,\n",
       "          8.8492763e-04,  4.4290486e-04,  8.8350667e-04],\n",
       "        [-1.4057719e-03, -7.3033641e-04,  9.7499753e-04, ...,\n",
       "          9.9463109e-04, -3.4149518e-04,  1.7994137e-03],\n",
       "        ...,\n",
       "        [-2.4976705e-03, -4.8692096e-03, -6.5154140e-04, ...,\n",
       "         -2.8825179e-04,  9.1789579e-03,  1.7485296e-03],\n",
       "        [-2.2396976e-03, -3.7158402e-03,  1.0873789e-04, ...,\n",
       "          1.3748406e-03,  8.4591713e-03, -2.7137046e-04],\n",
       "        [-4.4202351e-04, -3.7343944e-03,  7.7841025e-05, ...,\n",
       "          1.1087353e-03,  7.6335776e-03,  9.0169348e-04]],\n",
       "\n",
       "       [[-1.4651378e-04, -2.6293518e-04, -3.2692603e-04, ...,\n",
       "          1.0678219e-03,  2.0185646e-03,  4.2640747e-04],\n",
       "        [-1.3250881e-03,  5.3654436e-04, -6.9921330e-04, ...,\n",
       "          1.2900603e-03,  2.5636498e-03,  5.0838292e-04],\n",
       "        [-2.6541168e-03,  8.4415439e-04, -1.3995233e-03, ...,\n",
       "          2.5335131e-03,  2.6904815e-03,  2.0808494e-03],\n",
       "        ...,\n",
       "        [ 2.0235754e-03, -3.4407077e-03, -6.6541093e-03, ...,\n",
       "          6.7027537e-03,  1.1732376e-03,  3.9588390e-03],\n",
       "        [ 1.9750623e-03, -4.2804256e-03, -6.3808984e-03, ...,\n",
       "          5.0965804e-03,  9.6568780e-04,  3.0491885e-03],\n",
       "        [ 2.3968685e-03, -5.0700232e-03, -5.9271283e-03, ...,\n",
       "          3.8338618e-03,  5.8437395e-04,  2.4780026e-03]],\n",
       "\n",
       "       [[ 4.9204670e-04, -5.6528475e-04, -1.0233583e-03, ...,\n",
       "         -5.4227113e-04, -4.0680665e-04, -4.8558810e-04],\n",
       "        [ 6.8349740e-04, -9.3340327e-04, -1.9156308e-03, ...,\n",
       "         -9.0690114e-04,  3.9411176e-04, -1.5297250e-03],\n",
       "        [ 1.7312483e-03, -6.8471825e-04, -2.6204933e-03, ...,\n",
       "         -6.9131731e-04,  1.2155041e-03, -1.2331214e-03],\n",
       "        ...,\n",
       "        [ 6.3534775e-03, -9.8791381e-04,  1.7405234e-03, ...,\n",
       "          4.9197441e-03,  2.3471278e-03, -1.4859639e-03],\n",
       "        [ 5.2048988e-03, -1.1682467e-03,  1.0461803e-03, ...,\n",
       "          5.2013597e-03,  3.1018022e-03, -3.2253501e-03],\n",
       "        [ 4.3519256e-03, -4.3947043e-04,  9.3268818e-04, ...,\n",
       "          6.7946841e-03,  3.2402717e-03, -3.6622768e-03]]], dtype=float32)>"
      ]
     },
     "execution_count": 26,
     "metadata": {},
     "output_type": "execute_result"
    }
   ],
   "source": [
    "outputs"
   ]
  },
  {
   "cell_type": "markdown",
   "metadata": {},
   "source": [
    "<h2>Dense layer</h2>\n",
    "We now create densely-connected neural network layer that would reshape the outputs tensor from  [30 x 20 x 128] to [30 x 20 x 10000].\n"
   ]
  },
  {
   "cell_type": "code",
   "execution_count": 27,
   "metadata": {
    "tags": []
   },
   "outputs": [],
   "source": [
    "dense = tf.keras.layers.Dense(vocab_size)"
   ]
  },
  {
   "cell_type": "code",
   "execution_count": 28,
   "metadata": {
    "tags": []
   },
   "outputs": [],
   "source": [
    "logits_outputs  = dense(outputs)"
   ]
  },
  {
   "cell_type": "code",
   "execution_count": 29,
   "metadata": {
    "tags": []
   },
   "outputs": [
    {
     "name": "stdout",
     "output_type": "stream",
     "text": [
      "shape of the output from dense layer:  (30, 20, 10000)\n"
     ]
    }
   ],
   "source": [
    "print(\"shape of the output from dense layer: \", logits_outputs.shape) #(batch_size, sequence_length, vocab_size)"
   ]
  },
  {
   "cell_type": "markdown",
   "metadata": {},
   "source": [
    "<h2>Activation layer</h2>\n",
    "\n",
    "\n",
    "A softmax activation layers is also then applied to derive the probability of the output being in any of the multiclass(10000 in this case) possibilities. \n"
   ]
  },
  {
   "cell_type": "code",
   "execution_count": 30,
   "metadata": {
    "tags": []
   },
   "outputs": [],
   "source": [
    "activation = tf.keras.layers.Activation('softmax')"
   ]
  },
  {
   "cell_type": "code",
   "execution_count": 31,
   "metadata": {
    "tags": []
   },
   "outputs": [],
   "source": [
    "output_words_prob = activation(logits_outputs)"
   ]
  },
  {
   "cell_type": "code",
   "execution_count": 32,
   "metadata": {
    "tags": []
   },
   "outputs": [
    {
     "name": "stdout",
     "output_type": "stream",
     "text": [
      "shape of the output from the activation layer:  (30, 20, 10000)\n"
     ]
    }
   ],
   "source": [
    "print(\"shape of the output from the activation layer: \", output_words_prob.shape) #(batch_size, sequence_length, vocab_size)"
   ]
  },
  {
   "cell_type": "markdown",
   "metadata": {},
   "source": [
    "Lets look at the probability of observing words for t=0 to t=20:\n"
   ]
  },
  {
   "cell_type": "code",
   "execution_count": 33,
   "metadata": {
    "tags": []
   },
   "outputs": [
    {
     "name": "stdout",
     "output_type": "stream",
     "text": [
      "The probability of observing words in t=0 to t=20 tf.Tensor(\n",
      "[[9.99885960e-05 1.00008772e-04 1.00008401e-04 ... 9.99833792e-05\n",
      "  9.99826734e-05 1.00020348e-04]\n",
      " [9.99797558e-05 1.00024161e-04 1.00001016e-04 ... 9.99791664e-05\n",
      "  9.99537660e-05 1.00027071e-04]\n",
      " [9.99965778e-05 1.00035257e-04 9.99909025e-05 ... 9.99847180e-05\n",
      "  9.99490949e-05 1.00032055e-04]\n",
      " ...\n",
      " [9.98735195e-05 9.99928452e-05 1.00000158e-04 ... 9.99546173e-05\n",
      "  9.99856420e-05 1.00003279e-04]\n",
      " [9.98847536e-05 1.00014782e-04 9.99722834e-05 ... 9.99126860e-05\n",
      "  9.99836848e-05 1.00024568e-04]\n",
      " [9.99206968e-05 1.00042038e-04 9.99545664e-05 ... 9.98968244e-05\n",
      "  9.99713375e-05 1.00025849e-04]], shape=(20, 10000), dtype=float32)\n"
     ]
    }
   ],
   "source": [
    "print(\"The probability of observing words in t=0 to t=20\", output_words_prob[0,0:num_steps])"
   ]
  },
  {
   "cell_type": "markdown",
   "metadata": {},
   "source": [
    "<h3>Prediction</h3>\n",
    "What is the word correspond to the probability output? Lets use the maximum probability:\n"
   ]
  },
  {
   "cell_type": "code",
   "execution_count": 34,
   "metadata": {
    "tags": []
   },
   "outputs": [
    {
     "data": {
      "text/plain": [
       "array([7233, 6910, 1077, 1307, 1746, 8988, 8988, 8988, 4959, 4959, 3318,\n",
       "       3318, 3318, 8447, 8447, 1290, 9035, 2696, 9035, 6820])"
      ]
     },
     "execution_count": 34,
     "metadata": {},
     "output_type": "execute_result"
    }
   ],
   "source": [
    "np.argmax(output_words_prob[0,0:num_steps], axis=1)"
   ]
  },
  {
   "cell_type": "markdown",
   "metadata": {},
   "source": [
    "So, what is the ground truth for the first word of first sentence? You can get it from target tensor, if you want to find the embedding vector: \n"
   ]
  },
  {
   "cell_type": "code",
   "execution_count": 35,
   "metadata": {
    "tags": []
   },
   "outputs": [
    {
     "data": {
      "text/plain": [
       "array([9971, 9972, 9974, 9975, 9976, 9980, 9981, 9982, 9983, 9984, 9986,\n",
       "       9987, 9988, 9989, 9991, 9992, 9993, 9994, 9995, 9996], dtype=int32)"
      ]
     },
     "execution_count": 35,
     "metadata": {},
     "output_type": "execute_result"
    }
   ],
   "source": [
    "_targets[0]"
   ]
  },
  {
   "cell_type": "markdown",
   "metadata": {},
   "source": [
    "<h4>Objective function</h4>\n",
    "\n",
    "\n",
    "How similar the predicted words are to the target words?\n",
    "\n",
    "\n",
    "Now we have to define our objective function, to calculate the similarity of predicted values to ground truth, and then, penalize the model with the error. Our objective is to minimize loss function, that is, to minimize the average negative log probability of the target words:\n",
    "\n",
    "$$\\text{loss} = -\\frac{1}{N}\\sum_{i=1}^{N} \\ln p_{\\text{target}_i}$$\n",
    "\n",
    "This function is already implemented and available in TensorFlow through *tf.keras.losses.sparse_categorical_crossentropy*. It calculates the categorical cross-entropy loss for <b>logits</b> and the <b>target</b> sequence.  \n",
    "\n",
    "The arguments of this function are:  \n",
    "<ul>\n",
    "    <li>logits: List of 2D Tensors of shape [batch_size x num_decoder_symbols].</li>  \n",
    "    <li>targets: List of 1D batch-sized int32 Tensors of the same length as logits.</li>   \n",
    "</ul>\n"
   ]
  },
  {
   "cell_type": "code",
   "execution_count": 36,
   "metadata": {
    "tags": []
   },
   "outputs": [],
   "source": [
    "def crossentropy(y_true, y_pred):\n",
    "    return tf.keras.losses.sparse_categorical_crossentropy(y_true, y_pred)"
   ]
  },
  {
   "cell_type": "code",
   "execution_count": 37,
   "metadata": {
    "tags": []
   },
   "outputs": [],
   "source": [
    "loss  = crossentropy(_targets, output_words_prob)"
   ]
  },
  {
   "cell_type": "markdown",
   "metadata": {},
   "source": [
    "Lets look at the first 10 values of loss:\n"
   ]
  },
  {
   "cell_type": "code",
   "execution_count": 38,
   "metadata": {
    "tags": []
   },
   "outputs": [
    {
     "data": {
      "text/plain": [
       "<tf.Tensor: shape=(10,), dtype=float32, numpy=\n",
       "array([9.210196, 9.210586, 9.210168, 9.209528, 9.210497, 9.211167,\n",
       "       9.210524, 9.21097 , 9.210946, 9.209884], dtype=float32)>"
      ]
     },
     "execution_count": 38,
     "metadata": {},
     "output_type": "execute_result"
    }
   ],
   "source": [
    "loss[0,:10]"
   ]
  },
  {
   "cell_type": "markdown",
   "metadata": {},
   "source": [
    "Now, we define cost as average of the losses:\n"
   ]
  },
  {
   "cell_type": "code",
   "execution_count": 39,
   "metadata": {
    "tags": []
   },
   "outputs": [
    {
     "data": {
      "text/plain": [
       "<tf.Tensor: shape=(), dtype=float32, numpy=184.20692>"
      ]
     },
     "execution_count": 39,
     "metadata": {},
     "output_type": "execute_result"
    }
   ],
   "source": [
    "cost = tf.reduce_sum(loss / batch_size)\n",
    "cost"
   ]
  },
  {
   "cell_type": "markdown",
   "metadata": {},
   "source": [
    "<h3>Training</h3>\n",
    "\n",
    "To do training for our network, we have to take the following steps:\n",
    "<ol>\n",
    "    <li>Define the optimizer.</li>\n",
    "    <li>Assemble layers to build model.</li>\n",
    "    <li>Calculate the gradients based on the loss function.</li>\n",
    "    <li>Apply the optimizer to the variables/gradients tuple.</li>\n",
    "</ol>\n"
   ]
  },
  {
   "cell_type": "markdown",
   "metadata": {},
   "source": [
    "<h4>1. Define Optimizer</h4>\n",
    "\n"
   ]
  },
  {
   "cell_type": "code",
   "execution_count": 40,
   "metadata": {
    "tags": []
   },
   "outputs": [
    {
     "name": "stderr",
     "output_type": "stream",
     "text": [
      "/home/jupyterlab/conda/envs/python/lib/python3.7/site-packages/keras/optimizers/optimizer_v2/gradient_descent.py:108: UserWarning: The `lr` argument is deprecated, use `learning_rate` instead.\n",
      "  super(SGD, self).__init__(name, **kwargs)\n"
     ]
    }
   ],
   "source": [
    "# Create a variable for the learning rate\n",
    "lr = tf.Variable(0.0, trainable=False)\n",
    "optimizer = tf.keras.optimizers.SGD(lr=lr, clipnorm=max_grad_norm)"
   ]
  },
  {
   "cell_type": "markdown",
   "metadata": {},
   "source": [
    "<h4>2. Assemble layers to build model.</h4>\n"
   ]
  },
  {
   "cell_type": "code",
   "execution_count": 41,
   "metadata": {
    "tags": []
   },
   "outputs": [
    {
     "name": "stdout",
     "output_type": "stream",
     "text": [
      "Model: \"sequential\"\n",
      "_________________________________________________________________\n",
      " Layer (type)                Output Shape              Param #   \n",
      "=================================================================\n",
      " embedding_vocab (Embedding)  (30, 20, 200)            2000000   \n",
      "                                                                 \n",
      " rnn (RNN)                   (30, 20, 128)             671088    \n",
      "                                                                 \n",
      " dense (Dense)               (30, 20, 10000)           1290000   \n",
      "                                                                 \n",
      " activation (Activation)     (30, 20, 10000)           0         \n",
      "                                                                 \n",
      "=================================================================\n",
      "Total params: 3,961,088\n",
      "Trainable params: 3,955,088\n",
      "Non-trainable params: 6,000\n",
      "_________________________________________________________________\n"
     ]
    }
   ],
   "source": [
    "model = tf.keras.Sequential()\n",
    "model.add(embedding_layer)\n",
    "model.add(layer)\n",
    "model.add(dense)\n",
    "model.add(activation)\n",
    "model.compile(loss=crossentropy, optimizer=optimizer)\n",
    "model.summary()"
   ]
  },
  {
   "cell_type": "markdown",
   "metadata": {},
   "source": [
    "\n",
    "<h4>2. Trainable Variables</h4>\n"
   ]
  },
  {
   "cell_type": "markdown",
   "metadata": {},
   "source": [
    "Defining a variable, if you passed <i>trainable=True</i>, the variable constructor automatically adds new variables to the graph collection <b>GraphKeys.TRAINABLE_VARIABLES</b>. Now, using <i>tf.trainable_variables()</i> you can get all variables created with <b>trainable=True</b>.\n"
   ]
  },
  {
   "cell_type": "code",
   "execution_count": 42,
   "metadata": {
    "tags": []
   },
   "outputs": [],
   "source": [
    "# Get all TensorFlow variables marked as \"trainable\" (i.e. all of them except _lr, which we just created)\n",
    "tvars = model.trainable_variables"
   ]
  },
  {
   "cell_type": "markdown",
   "metadata": {},
   "source": [
    "Note: we can find the name and scope of all variables:\n"
   ]
  },
  {
   "cell_type": "code",
   "execution_count": 43,
   "metadata": {
    "tags": []
   },
   "outputs": [
    {
     "data": {
      "text/plain": [
       "['embedding_vocab/embeddings:0',\n",
       " 'rnn/stacked_rnn_cells/lstm_cell/kernel:0',\n",
       " 'rnn/stacked_rnn_cells/lstm_cell/recurrent_kernel:0',\n",
       " 'rnn/stacked_rnn_cells/lstm_cell/bias:0',\n",
       " 'rnn/stacked_rnn_cells/lstm_cell_1/kernel:0',\n",
       " 'rnn/stacked_rnn_cells/lstm_cell_1/recurrent_kernel:0',\n",
       " 'rnn/stacked_rnn_cells/lstm_cell_1/bias:0',\n",
       " 'dense/kernel:0',\n",
       " 'dense/bias:0']"
      ]
     },
     "execution_count": 43,
     "metadata": {},
     "output_type": "execute_result"
    }
   ],
   "source": [
    "[v.name for v in tvars] "
   ]
  },
  {
   "cell_type": "markdown",
   "metadata": {},
   "source": [
    "<h4>3. Calculate the gradients based on the loss function</h4>\n"
   ]
  },
  {
   "cell_type": "markdown",
   "metadata": {},
   "source": [
    "**Gradient**: The gradient of a function is the slope of its derivative (line), or in other words, the rate of change of a function. It's a vector (a direction to move) that points in the direction of greatest increase of the function, and calculated by the <b>derivative</b> operation.\n"
   ]
  },
  {
   "cell_type": "markdown",
   "metadata": {},
   "source": [
    "First lets recall the gradient function using an toy example:\n",
    "$$ z = \\left(2x^2 + 3xy\\right)$$\n"
   ]
  },
  {
   "cell_type": "code",
   "execution_count": 44,
   "metadata": {
    "tags": []
   },
   "outputs": [],
   "source": [
    "x = tf.constant(1.0)\n",
    "y =  tf.constant(2.0)\n",
    "with tf.GradientTape(persistent=True) as g:\n",
    "    g.watch(x)\n",
    "    g.watch(y)\n",
    "    func_test = 2 * x * x + 3 * x * y"
   ]
  },
  {
   "cell_type": "markdown",
   "metadata": {},
   "source": [
    "The <b>tf.gradients()</b> function allows you to compute the symbolic gradient of one tensor with respect to one or more other tensors—including variables. <b>tf.gradients(func, xs)</b> constructs symbolic partial derivatives of sum of <b>func</b> w.r.t. <i>x</i> in <b>xs</b>. \n",
    "\n",
    "Now, lets look at the derivitive w.r.t. <b>var_x</b>:\n",
    "$$ \\frac{\\partial \\:}{\\partial \\:x}\\left(2x^2 + 3xy\\right) = 4x + 3y $$\n"
   ]
  },
  {
   "cell_type": "code",
   "execution_count": 45,
   "metadata": {
    "tags": []
   },
   "outputs": [
    {
     "name": "stdout",
     "output_type": "stream",
     "text": [
      "tf.Tensor(10.0, shape=(), dtype=float32)\n"
     ]
    }
   ],
   "source": [
    "var_grad = g.gradient(func_test, x) # Will compute to 10.0\n",
    "print(var_grad)"
   ]
  },
  {
   "cell_type": "markdown",
   "metadata": {},
   "source": [
    "the derivative w.r.t. <b>var_y</b>:\n",
    "$$ \\frac{\\partial \\:}{\\partial \\:y}\\left(2x^2 + 3xy\\right) = 3x $$\n"
   ]
  },
  {
   "cell_type": "code",
   "execution_count": 46,
   "metadata": {
    "tags": []
   },
   "outputs": [
    {
     "name": "stdout",
     "output_type": "stream",
     "text": [
      "tf.Tensor(3.0, shape=(), dtype=float32)\n"
     ]
    }
   ],
   "source": [
    "var_grad = g.gradient(func_test, y) # Will compute to 3.0\n",
    "print(var_grad)"
   ]
  },
  {
   "cell_type": "markdown",
   "metadata": {},
   "source": [
    "Now, we can look at gradients w.r.t all variables:\n"
   ]
  },
  {
   "cell_type": "code",
   "execution_count": 47,
   "metadata": {
    "tags": []
   },
   "outputs": [],
   "source": [
    "with tf.GradientTape() as tape:\n",
    "    # Forward pass.\n",
    "    output_words_prob = model(_input_data)\n",
    "    # Loss value for this batch.\n",
    "    loss  = crossentropy(_targets, output_words_prob)\n",
    "    cost = tf.reduce_sum(loss,axis=0) / batch_size"
   ]
  },
  {
   "cell_type": "code",
   "execution_count": 48,
   "metadata": {
    "tags": []
   },
   "outputs": [],
   "source": [
    "# Get gradients of loss wrt the trainable variables.\n",
    "grad_t_list = tape.gradient(cost, tvars)"
   ]
  },
  {
   "cell_type": "code",
   "execution_count": 49,
   "metadata": {
    "tags": []
   },
   "outputs": [
    {
     "name": "stdout",
     "output_type": "stream",
     "text": [
      "[<tensorflow.python.framework.indexed_slices.IndexedSlices object at 0x7f8e289bea10>, <tf.Tensor: shape=(200, 1024), dtype=float32, numpy=\n",
      "array([[-8.51413688e-07,  9.60505417e-07, -6.28825092e-07, ...,\n",
      "        -4.33799585e-07, -3.88240835e-08,  3.26037593e-07],\n",
      "       [-8.36521451e-07,  1.49134394e-08, -7.06564620e-08, ...,\n",
      "         2.39248664e-07,  2.35761306e-07,  6.02412342e-10],\n",
      "       [ 9.02364434e-07,  9.04877766e-07,  9.30657848e-07, ...,\n",
      "         2.71818777e-07,  1.58008021e-07, -1.59921484e-07],\n",
      "       ...,\n",
      "       [-4.26195385e-07, -4.06287484e-08, -7.72032081e-07, ...,\n",
      "        -4.91455694e-07, -3.82789267e-07,  1.96415741e-07],\n",
      "       [-4.53828619e-07, -4.37037073e-07,  8.29328201e-07, ...,\n",
      "        -3.19794964e-07, -7.87403707e-08, -4.22803978e-08],\n",
      "       [-8.49117896e-08, -1.09388424e-07, -2.99520451e-07, ...,\n",
      "        -1.65217244e-07,  3.17168116e-07,  1.21963240e-07]], dtype=float32)>, <tf.Tensor: shape=(256, 1024), dtype=float32, numpy=\n",
      "array([[-1.11636169e-07, -2.25500742e-07, -5.08687918e-08, ...,\n",
      "        -5.35256852e-08, -5.01727193e-08,  7.58148886e-08],\n",
      "       [ 1.99015417e-08, -1.39188501e-07, -1.51628939e-07, ...,\n",
      "        -1.70694008e-07,  6.85985100e-08,  4.38560157e-08],\n",
      "       [ 8.60544773e-08, -1.36173668e-07, -2.18537110e-07, ...,\n",
      "        -1.49906626e-07, -6.24018810e-08,  1.04837945e-07],\n",
      "       ...,\n",
      "       [-7.15706179e-08,  9.80028574e-08,  5.84269344e-09, ...,\n",
      "         3.61095090e-07,  1.41445440e-07, -3.63326080e-09],\n",
      "       [ 9.43237382e-08,  8.05744662e-08,  8.00864157e-08, ...,\n",
      "         2.45820218e-07,  3.51198764e-07,  6.67826328e-09],\n",
      "       [ 7.72350006e-08,  4.36715482e-08,  2.04976356e-08, ...,\n",
      "         1.46200321e-07,  2.00623177e-07,  2.18969376e-09]], dtype=float32)>, <tf.Tensor: shape=(1024,), dtype=float32, numpy=\n",
      "array([-2.5589716e-05,  1.3522375e-05,  3.5712874e-05, ...,\n",
      "        2.9852639e-05,  3.7461186e-06, -4.6667078e-06], dtype=float32)>, <tf.Tensor: shape=(256, 512), dtype=float32, numpy=\n",
      "array([[-2.31416152e-07,  9.01701185e-08,  2.15163922e-08, ...,\n",
      "        -3.99868469e-07, -6.07677606e-08,  5.41300892e-07],\n",
      "       [-1.49936270e-07,  9.67275753e-08,  1.08474126e-07, ...,\n",
      "        -5.90401790e-08,  9.81589778e-08,  2.79725725e-07],\n",
      "       [-5.71320626e-08,  3.23635646e-07, -1.63987295e-08, ...,\n",
      "        -1.84731974e-07, -2.31958580e-07, -3.61449004e-08],\n",
      "       ...,\n",
      "       [ 8.78300099e-08, -2.07740868e-07, -5.16231822e-08, ...,\n",
      "         1.19548815e-07, -8.58058797e-08,  3.57125671e-08],\n",
      "       [ 9.45467349e-08, -3.40283805e-07, -9.31499073e-08, ...,\n",
      "         1.87592505e-07, -8.96376520e-08,  2.70670810e-08],\n",
      "       [-5.31811999e-08, -2.52552013e-07, -9.07574957e-08, ...,\n",
      "         3.06770232e-07,  1.46512079e-07, -2.25205369e-07]], dtype=float32)>, <tf.Tensor: shape=(128, 512), dtype=float32, numpy=\n",
      "array([[-2.77529200e-08,  2.91781646e-07, -2.34934532e-07, ...,\n",
      "        -1.09718044e-07, -7.15627806e-08,  1.65910905e-07],\n",
      "       [-6.67722873e-08,  4.32047898e-07, -4.81512430e-08, ...,\n",
      "        -1.56483964e-07, -1.24730430e-08,  2.40162393e-07],\n",
      "       [ 2.87472979e-08, -1.43312189e-08,  2.38149013e-07, ...,\n",
      "        -8.29740046e-08,  2.65776627e-08,  3.35909327e-08],\n",
      "       ...,\n",
      "       [-4.35019345e-08,  6.89792046e-08, -2.00815620e-07, ...,\n",
      "        -3.37188226e-07, -4.28140510e-08,  1.79621637e-07],\n",
      "       [ 2.57050772e-08, -8.20131163e-08,  4.59644944e-08, ...,\n",
      "         1.62174238e-08,  3.47082050e-07, -1.03128542e-07],\n",
      "       [-9.47427452e-08, -2.09736069e-08, -7.67541195e-08, ...,\n",
      "        -1.16776278e-08, -2.53820378e-08,  1.27029836e-07]], dtype=float32)>, <tf.Tensor: shape=(512,), dtype=float32, numpy=\n",
      "array([ 1.09533930e-05, -8.95880657e-05,  3.19965948e-05,  1.55157086e-05,\n",
      "        5.01658451e-06,  1.17906602e-05,  4.10531466e-05, -1.23492464e-05,\n",
      "       -1.96212895e-05,  1.56669830e-05,  1.42924582e-05,  5.68028327e-06,\n",
      "        4.71887288e-05,  4.27230771e-06, -2.99055901e-05,  2.65717154e-05,\n",
      "        4.34414178e-05, -2.89862946e-05,  2.96623330e-05, -2.45547562e-05,\n",
      "        2.56198109e-05,  2.07093472e-05, -2.62044487e-05,  3.04407113e-05,\n",
      "        1.32493133e-05, -2.22576346e-05, -2.71029567e-05,  3.28920469e-05,\n",
      "        9.23283369e-06,  1.25793758e-05,  7.44449881e-06, -4.33565765e-06,\n",
      "        2.70355613e-05, -4.15634495e-05,  2.06426193e-05,  7.19082964e-05,\n",
      "        3.13570054e-05, -2.78075368e-05,  9.55256255e-05,  3.76167627e-05,\n",
      "        3.01067157e-05,  1.78798655e-05, -8.37691987e-05,  2.35059088e-06,\n",
      "       -6.68978828e-07, -3.42144194e-05,  1.79799317e-05,  4.97509900e-05,\n",
      "        7.46611386e-06, -2.31449412e-05,  2.21959053e-05,  1.65988386e-05,\n",
      "       -3.03603611e-05, -1.85052904e-05, -2.01637558e-05, -4.53416687e-05,\n",
      "        3.13026540e-05, -2.22011822e-05, -6.01298916e-06, -5.15721695e-05,\n",
      "       -5.52135389e-05,  3.84199448e-05,  4.80573799e-05, -4.28218027e-06,\n",
      "        1.59768388e-05,  1.00048965e-05, -2.75204839e-05,  2.21355804e-05,\n",
      "       -6.96832103e-07,  1.61870466e-05,  3.75037598e-05, -2.50497196e-05,\n",
      "       -1.49281870e-04,  2.27369837e-05, -2.79842061e-05,  2.59780281e-05,\n",
      "        2.26492721e-05, -1.13579208e-05, -4.89452304e-06, -1.01854457e-05,\n",
      "       -1.30503777e-05, -8.31387933e-06,  5.47645395e-05, -2.57893716e-05,\n",
      "        4.24512327e-05,  7.72632120e-07,  3.04150217e-06, -6.04855304e-05,\n",
      "       -5.40256442e-05,  3.00147003e-05,  8.00940870e-06,  1.60461404e-05,\n",
      "        3.85870444e-05, -8.15675958e-05, -4.66705387e-05, -7.04787817e-05,\n",
      "        1.62928118e-05,  2.44872099e-05,  1.57693466e-05, -4.00591161e-05,\n",
      "        5.98826273e-06, -3.68319961e-05,  2.69143620e-05,  2.28672143e-05,\n",
      "        2.70083819e-06,  3.89168144e-06,  2.78852040e-05, -2.04242733e-05,\n",
      "        4.86147474e-06, -8.42410736e-06, -2.11798306e-05,  2.90301505e-05,\n",
      "       -4.17241608e-05,  2.84467878e-05,  2.84161870e-05,  5.83582805e-05,\n",
      "       -4.91335368e-06,  4.96951216e-05, -1.02132026e-05,  4.05674509e-05,\n",
      "       -6.16784455e-05, -2.45134725e-05, -1.15348055e-04,  5.65740338e-05,\n",
      "       -1.35866276e-05,  4.43093086e-05, -1.70667663e-05, -2.43811610e-05,\n",
      "        1.07008073e-05, -1.14515846e-04,  4.83958211e-05,  3.48227986e-05,\n",
      "        8.11075915e-06, -3.79728590e-06,  4.59897310e-05, -3.52480529e-05,\n",
      "       -2.98570667e-05,  4.32660636e-05,  1.94404129e-06,  3.54267395e-05,\n",
      "        6.01512293e-05,  2.50456687e-05, -1.19108809e-05,  5.53509853e-05,\n",
      "        5.16941473e-05, -5.63301073e-05,  5.32900012e-05, -3.45616209e-05,\n",
      "        4.48081773e-05,  1.75754103e-05, -5.93294644e-05,  4.46546219e-05,\n",
      "        3.07035043e-05, -4.86205026e-05, -1.59798674e-05,  3.03150809e-05,\n",
      "        2.13321728e-05, -1.85241624e-05, -3.45945136e-06,  9.52077698e-06,\n",
      "        2.64146456e-05, -4.31990338e-05,  3.40858278e-05,  7.79967668e-05,\n",
      "        6.40959915e-05, -1.21382727e-05,  1.40327174e-04,  5.67848620e-05,\n",
      "        5.06950601e-05,  2.33931623e-05, -1.49816886e-04,  1.56030565e-05,\n",
      "       -4.78557558e-06, -3.45704102e-05,  1.66823156e-07,  6.67179629e-05,\n",
      "       -1.15771900e-05, -2.50632147e-05,  2.85108290e-05,  2.22050403e-06,\n",
      "       -5.90705095e-05, -1.95359571e-05, -4.16945331e-05, -5.77411447e-05,\n",
      "        6.26378460e-05, -1.82813674e-05, -2.59260996e-05, -7.72144704e-05,\n",
      "       -8.37105617e-05,  4.07119624e-05,  5.82877656e-05, -9.62555350e-06,\n",
      "        2.44052171e-05,  2.61392997e-05, -7.39546840e-06,  5.23596100e-05,\n",
      "       -9.26381745e-07,  1.36514773e-05,  2.04324056e-06, -4.22265730e-05,\n",
      "       -2.09332109e-04,  2.25516360e-05, -5.11306826e-05,  4.43282370e-05,\n",
      "        2.47950411e-05,  7.15418446e-06, -7.57887847e-06, -3.24516004e-05,\n",
      "       -1.88399245e-05, -2.45074716e-07,  8.59841530e-05, -6.07905749e-05,\n",
      "        5.51600388e-05, -3.15440848e-05,  1.24373346e-05, -6.49015419e-05,\n",
      "       -4.24632090e-05,  5.56468112e-05,  3.17345621e-05,  2.08454039e-05,\n",
      "        3.96439973e-05, -1.08651453e-04, -6.05551868e-05, -7.11148241e-05,\n",
      "        8.55791950e-06,  3.94404706e-05,  3.80107631e-05, -5.27887678e-05,\n",
      "       -8.49048229e-06, -6.81417077e-05,  1.01592559e-05,  2.24193518e-05,\n",
      "       -1.17687832e-05, -2.02571027e-05,  5.22344526e-05, -2.74667709e-05,\n",
      "        1.32250589e-05, -1.06606967e-05,  8.05055606e-07,  6.07080074e-05,\n",
      "       -6.27110494e-05,  4.79125447e-05,  5.27182892e-05,  9.23254920e-05,\n",
      "       -1.53157562e-05,  6.64886393e-05, -3.82566395e-05,  5.58609536e-05,\n",
      "       -5.68720461e-05, -2.42445967e-05, -1.72091968e-04,  6.08542505e-05,\n",
      "       -2.80691656e-05,  5.22348200e-05,  1.97956479e-06, -2.84774487e-05,\n",
      "        1.41757159e-02,  5.74440733e-02,  3.35440412e-02,  1.51730049e-02,\n",
      "        2.54160445e-02,  1.57067291e-02,  6.82104612e-03, -4.07131314e-02,\n",
      "       -7.32180430e-03, -2.70401244e-03,  1.34450868e-02, -3.89943481e-03,\n",
      "        7.67401746e-03,  1.34770209e-02, -5.23459986e-02,  1.92104727e-02,\n",
      "       -6.37685833e-03, -4.04986143e-02, -2.66944021e-02, -2.87390016e-02,\n",
      "        5.30807720e-03, -6.95161074e-02,  1.53533462e-02,  3.82213527e-03,\n",
      "       -1.30577153e-02,  1.92646310e-02, -2.54317541e-02, -1.24129164e-03,\n",
      "       -1.92258805e-02, -5.95976831e-04,  1.62405241e-02, -2.68683098e-02,\n",
      "       -3.82847562e-02,  2.93916091e-02, -1.37988916e-02, -6.87215403e-02,\n",
      "        4.42709066e-02, -2.03653909e-02, -1.57763530e-02,  1.89170651e-02,\n",
      "        3.54256132e-03, -7.21821003e-03, -6.57816529e-02, -2.60455767e-04,\n",
      "        2.99181044e-02,  2.12924778e-02,  4.30642068e-02,  2.68335491e-02,\n",
      "       -4.38593403e-02, -3.64874527e-02, -2.83122659e-02,  7.71336397e-03,\n",
      "        1.11274375e-02,  2.34027440e-03, -8.40262622e-02,  1.82841681e-02,\n",
      "        1.83495097e-02, -1.21792769e-02, -1.68784373e-02, -5.11769690e-02,\n",
      "        4.43354845e-02, -2.88589746e-02, -2.69911578e-03,  1.07666980e-02,\n",
      "        2.64684036e-02, -2.43079476e-03,  3.73314358e-02, -4.37245108e-02,\n",
      "       -1.47399753e-02,  2.98188739e-02,  1.96250472e-02,  2.85674930e-02,\n",
      "        6.21581748e-02,  1.97017845e-03, -9.24332440e-03,  5.30882832e-03,\n",
      "        4.81302850e-03,  1.49920993e-02, -1.39594628e-02,  1.27477832e-02,\n",
      "        2.35747881e-02, -6.29821466e-03, -3.05826031e-02,  1.79643631e-02,\n",
      "       -3.04958187e-02, -3.59000787e-02, -1.86393932e-02, -3.50515693e-02,\n",
      "        1.63113270e-02, -1.34191159e-02, -1.38713568e-02, -3.49395797e-02,\n",
      "       -1.01473294e-02, -4.36332598e-02,  3.05075683e-02,  1.28392074e-02,\n",
      "        3.16002332e-02,  2.27184799e-02, -1.61333196e-03, -1.12614762e-02,\n",
      "       -1.92701723e-02, -2.55165920e-02, -1.34622538e-02,  1.00472989e-02,\n",
      "        3.30741480e-02, -1.07325688e-02, -3.13279703e-02,  4.53258902e-02,\n",
      "        4.46631685e-02, -1.10786036e-02,  4.35220748e-02,  2.45182905e-02,\n",
      "       -3.08291297e-02,  2.01658830e-02,  2.94323266e-02, -3.67175043e-02,\n",
      "        1.74909979e-02, -5.93408756e-02, -4.32190970e-02, -9.06944554e-03,\n",
      "       -1.67787373e-02, -3.18090757e-03, -4.61818054e-02,  2.70868428e-02,\n",
      "       -3.76204662e-02,  8.28396156e-03,  3.54325026e-02,  2.48123929e-02,\n",
      "        1.05347663e-05, -1.02170692e-04,  3.45051885e-05,  1.65436904e-05,\n",
      "       -7.38165909e-07,  1.85749432e-05,  5.66409908e-05, -2.32356724e-05,\n",
      "       -2.18175337e-05,  1.27836365e-05,  1.54066220e-05,  6.71904036e-06,\n",
      "        4.44481411e-05,  1.22260544e-05, -3.40547376e-05,  2.62984104e-05,\n",
      "        4.20855940e-05, -3.35898476e-05,  3.55855882e-05, -2.59341687e-05,\n",
      "        1.65268611e-05,  1.60349828e-05, -4.14215974e-05,  4.66168276e-05,\n",
      "        1.78185419e-05, -4.33481728e-05, -1.98418129e-05,  3.60918602e-05,\n",
      "        1.12735470e-05,  9.82219899e-06,  9.48723391e-06, -4.85038981e-06,\n",
      "        2.83856352e-05, -4.33664209e-05,  2.78968182e-05,  6.65670814e-05,\n",
      "        2.27876881e-05, -1.93093565e-05,  1.13380978e-04,  3.75182681e-05,\n",
      "        4.27732521e-05,  8.92228672e-06, -9.87295571e-05, -1.47804894e-06,\n",
      "        6.05634341e-07, -2.90010976e-05,  1.14584909e-05,  6.75519987e-05,\n",
      "        1.26325831e-05, -1.92614607e-05,  4.09349195e-05,  1.13813121e-05,\n",
      "       -4.25074613e-05, -1.81623145e-05, -2.41608250e-05, -4.74202170e-05,\n",
      "        2.94553083e-05, -3.00003394e-05, -8.44475198e-06, -5.93150144e-05,\n",
      "       -6.47956986e-05,  3.90027635e-05,  6.02449400e-05, -3.81217342e-06,\n",
      "        1.42978442e-05,  9.88052216e-06, -1.75681416e-05,  3.22318811e-05,\n",
      "       -1.50794313e-06,  7.67779602e-06,  3.67423781e-05, -1.83169959e-05,\n",
      "       -1.64529367e-04,  2.36293035e-05, -2.70748533e-05,  3.06571455e-05,\n",
      "        2.89324016e-05, -8.39675795e-06, -7.96897803e-06, -5.10031532e-06,\n",
      "       -3.56183045e-05, -1.49337484e-06,  7.84843869e-05, -2.20190850e-05,\n",
      "        4.51297929e-05, -9.63841740e-06,  2.10069920e-05, -6.70130539e-05,\n",
      "       -5.69547738e-05,  3.38763712e-05,  5.28142664e-06,  2.40703703e-05,\n",
      "        4.60121228e-05, -8.57877676e-05, -5.45528164e-05, -8.67179260e-05,\n",
      "        1.33755584e-05,  3.29753384e-05,  2.18994555e-05, -3.57146200e-05,\n",
      "        4.51846563e-06, -5.22213086e-05,  2.67013002e-05,  2.52307073e-05,\n",
      "       -6.90593333e-06,  7.61696901e-06,  3.50565788e-05, -1.91371237e-05,\n",
      "        6.90572233e-06, -9.25688801e-06, -1.34187503e-05,  3.17448576e-05,\n",
      "       -3.77330252e-05,  2.48500328e-05,  2.36175729e-05,  6.71621819e-05,\n",
      "       -6.69536212e-06,  4.99389716e-05, -1.93342694e-05,  4.17861738e-05,\n",
      "       -7.52833439e-05, -1.99753486e-05, -1.31478766e-04,  5.13480154e-05,\n",
      "       -2.02556330e-05,  4.96957364e-05, -1.30798344e-05, -2.45598094e-05],\n",
      "      dtype=float32)>, <tf.Tensor: shape=(128, 10000), dtype=float32, numpy=\n",
      "array([[ 1.2479960e-03,  2.1585498e-03,  2.2068778e-03, ...,\n",
      "        -3.5935284e-06, -3.5939643e-06, -3.5920411e-06],\n",
      "       [ 1.5429559e-03,  2.8687539e-03,  1.8194909e-03, ...,\n",
      "        -2.3868502e-06, -2.3870818e-06, -2.3871432e-06],\n",
      "       [-3.2491953e-04,  4.9924548e-04, -2.5947433e-04, ...,\n",
      "         9.2566921e-08,  9.2296375e-08,  9.1244203e-08],\n",
      "       ...,\n",
      "       [ 1.2546728e-03,  1.7362888e-03,  3.1554978e-03, ...,\n",
      "        -1.5451201e-06, -1.5464743e-06, -1.5457028e-06],\n",
      "       [-1.2818763e-03, -2.0418051e-03, -1.7223852e-03, ...,\n",
      "         2.7804867e-06,  2.7802803e-06,  2.7761723e-06],\n",
      "       [-2.0951306e-04, -9.4443373e-04,  1.1023268e-04, ...,\n",
      "        -7.6009979e-07, -7.5667396e-07, -7.5951772e-07]], dtype=float32)>, <tf.Tensor: shape=(10000,), dtype=float32, numpy=\n",
      "array([-0.79799795, -1.0313315 , -1.0313314 , ...,  0.00199966,\n",
      "        0.00199946,  0.00199903], dtype=float32)>]\n"
     ]
    }
   ],
   "source": [
    "print(grad_t_list)"
   ]
  },
  {
   "cell_type": "markdown",
   "metadata": {},
   "source": [
    "\n",
    "\n",
    "\n",
    "now, we have a list of tensors, t-list. We can use it to find clipped tensors. <b>clip_by_global_norm</b> clips values of multiple tensors by the ratio of the sum of their norms.\n",
    "\n",
    "<b>clip_by_global_norm</b> get <i>t-list</i> as input and returns 2 things:\n",
    "<ul>\n",
    "    <li>a list of clipped tensors, so called <i>list_clipped</i></li> \n",
    "    <li>the global norm (global_norm) of all tensors in t_list</li> \n",
    "</ul>\n"
   ]
  },
  {
   "cell_type": "code",
   "execution_count": 50,
   "metadata": {
    "tags": []
   },
   "outputs": [
    {
     "data": {
      "text/plain": [
       "[<tensorflow.python.framework.indexed_slices.IndexedSlices at 0x7f8e7bd5b850>,\n",
       " <tf.Tensor: shape=(200, 1024), dtype=float32, numpy=\n",
       " array([[-8.51413688e-07,  9.60505417e-07, -6.28825092e-07, ...,\n",
       "         -4.33799585e-07, -3.88240835e-08,  3.26037593e-07],\n",
       "        [-8.36521451e-07,  1.49134394e-08, -7.06564620e-08, ...,\n",
       "          2.39248664e-07,  2.35761306e-07,  6.02412342e-10],\n",
       "        [ 9.02364434e-07,  9.04877766e-07,  9.30657848e-07, ...,\n",
       "          2.71818777e-07,  1.58008021e-07, -1.59921484e-07],\n",
       "        ...,\n",
       "        [-4.26195385e-07, -4.06287484e-08, -7.72032081e-07, ...,\n",
       "         -4.91455694e-07, -3.82789267e-07,  1.96415741e-07],\n",
       "        [-4.53828619e-07, -4.37037073e-07,  8.29328201e-07, ...,\n",
       "         -3.19794964e-07, -7.87403707e-08, -4.22803978e-08],\n",
       "        [-8.49117896e-08, -1.09388424e-07, -2.99520451e-07, ...,\n",
       "         -1.65217244e-07,  3.17168116e-07,  1.21963240e-07]], dtype=float32)>,\n",
       " <tf.Tensor: shape=(256, 1024), dtype=float32, numpy=\n",
       " array([[-1.11636169e-07, -2.25500742e-07, -5.08687918e-08, ...,\n",
       "         -5.35256852e-08, -5.01727193e-08,  7.58148886e-08],\n",
       "        [ 1.99015417e-08, -1.39188501e-07, -1.51628939e-07, ...,\n",
       "         -1.70694008e-07,  6.85985100e-08,  4.38560157e-08],\n",
       "        [ 8.60544773e-08, -1.36173668e-07, -2.18537110e-07, ...,\n",
       "         -1.49906626e-07, -6.24018810e-08,  1.04837945e-07],\n",
       "        ...,\n",
       "        [-7.15706179e-08,  9.80028574e-08,  5.84269344e-09, ...,\n",
       "          3.61095090e-07,  1.41445440e-07, -3.63326080e-09],\n",
       "        [ 9.43237382e-08,  8.05744662e-08,  8.00864157e-08, ...,\n",
       "          2.45820218e-07,  3.51198764e-07,  6.67826328e-09],\n",
       "        [ 7.72350006e-08,  4.36715482e-08,  2.04976356e-08, ...,\n",
       "          1.46200321e-07,  2.00623177e-07,  2.18969376e-09]], dtype=float32)>,\n",
       " <tf.Tensor: shape=(1024,), dtype=float32, numpy=\n",
       " array([-2.5589716e-05,  1.3522375e-05,  3.5712874e-05, ...,\n",
       "         2.9852639e-05,  3.7461186e-06, -4.6667078e-06], dtype=float32)>,\n",
       " <tf.Tensor: shape=(256, 512), dtype=float32, numpy=\n",
       " array([[-2.31416152e-07,  9.01701185e-08,  2.15163922e-08, ...,\n",
       "         -3.99868469e-07, -6.07677606e-08,  5.41300892e-07],\n",
       "        [-1.49936270e-07,  9.67275753e-08,  1.08474126e-07, ...,\n",
       "         -5.90401790e-08,  9.81589778e-08,  2.79725725e-07],\n",
       "        [-5.71320626e-08,  3.23635646e-07, -1.63987295e-08, ...,\n",
       "         -1.84731974e-07, -2.31958580e-07, -3.61449004e-08],\n",
       "        ...,\n",
       "        [ 8.78300099e-08, -2.07740868e-07, -5.16231822e-08, ...,\n",
       "          1.19548815e-07, -8.58058797e-08,  3.57125671e-08],\n",
       "        [ 9.45467349e-08, -3.40283805e-07, -9.31499073e-08, ...,\n",
       "          1.87592505e-07, -8.96376520e-08,  2.70670810e-08],\n",
       "        [-5.31811999e-08, -2.52552013e-07, -9.07574957e-08, ...,\n",
       "          3.06770232e-07,  1.46512079e-07, -2.25205369e-07]], dtype=float32)>,\n",
       " <tf.Tensor: shape=(128, 512), dtype=float32, numpy=\n",
       " array([[-2.77529200e-08,  2.91781646e-07, -2.34934532e-07, ...,\n",
       "         -1.09718044e-07, -7.15627806e-08,  1.65910905e-07],\n",
       "        [-6.67722873e-08,  4.32047898e-07, -4.81512430e-08, ...,\n",
       "         -1.56483964e-07, -1.24730430e-08,  2.40162393e-07],\n",
       "        [ 2.87472979e-08, -1.43312189e-08,  2.38149013e-07, ...,\n",
       "         -8.29740046e-08,  2.65776627e-08,  3.35909327e-08],\n",
       "        ...,\n",
       "        [-4.35019345e-08,  6.89792046e-08, -2.00815620e-07, ...,\n",
       "         -3.37188226e-07, -4.28140510e-08,  1.79621637e-07],\n",
       "        [ 2.57050772e-08, -8.20131163e-08,  4.59644944e-08, ...,\n",
       "          1.62174238e-08,  3.47082050e-07, -1.03128542e-07],\n",
       "        [-9.47427452e-08, -2.09736069e-08, -7.67541195e-08, ...,\n",
       "         -1.16776278e-08, -2.53820378e-08,  1.27029836e-07]], dtype=float32)>,\n",
       " <tf.Tensor: shape=(512,), dtype=float32, numpy=\n",
       " array([ 1.09533930e-05, -8.95880657e-05,  3.19965948e-05,  1.55157086e-05,\n",
       "         5.01658451e-06,  1.17906602e-05,  4.10531466e-05, -1.23492464e-05,\n",
       "        -1.96212895e-05,  1.56669830e-05,  1.42924582e-05,  5.68028327e-06,\n",
       "         4.71887288e-05,  4.27230771e-06, -2.99055901e-05,  2.65717154e-05,\n",
       "         4.34414178e-05, -2.89862946e-05,  2.96623330e-05, -2.45547562e-05,\n",
       "         2.56198109e-05,  2.07093472e-05, -2.62044487e-05,  3.04407113e-05,\n",
       "         1.32493133e-05, -2.22576346e-05, -2.71029567e-05,  3.28920469e-05,\n",
       "         9.23283369e-06,  1.25793758e-05,  7.44449881e-06, -4.33565765e-06,\n",
       "         2.70355613e-05, -4.15634495e-05,  2.06426193e-05,  7.19082964e-05,\n",
       "         3.13570054e-05, -2.78075368e-05,  9.55256255e-05,  3.76167627e-05,\n",
       "         3.01067157e-05,  1.78798655e-05, -8.37691987e-05,  2.35059088e-06,\n",
       "        -6.68978828e-07, -3.42144194e-05,  1.79799317e-05,  4.97509900e-05,\n",
       "         7.46611386e-06, -2.31449412e-05,  2.21959053e-05,  1.65988386e-05,\n",
       "        -3.03603611e-05, -1.85052904e-05, -2.01637558e-05, -4.53416687e-05,\n",
       "         3.13026540e-05, -2.22011822e-05, -6.01298916e-06, -5.15721695e-05,\n",
       "        -5.52135389e-05,  3.84199448e-05,  4.80573799e-05, -4.28218027e-06,\n",
       "         1.59768388e-05,  1.00048965e-05, -2.75204839e-05,  2.21355804e-05,\n",
       "        -6.96832103e-07,  1.61870466e-05,  3.75037598e-05, -2.50497196e-05,\n",
       "        -1.49281870e-04,  2.27369837e-05, -2.79842061e-05,  2.59780281e-05,\n",
       "         2.26492721e-05, -1.13579208e-05, -4.89452304e-06, -1.01854457e-05,\n",
       "        -1.30503777e-05, -8.31387933e-06,  5.47645395e-05, -2.57893716e-05,\n",
       "         4.24512327e-05,  7.72632120e-07,  3.04150217e-06, -6.04855304e-05,\n",
       "        -5.40256442e-05,  3.00147003e-05,  8.00940870e-06,  1.60461404e-05,\n",
       "         3.85870444e-05, -8.15675958e-05, -4.66705387e-05, -7.04787817e-05,\n",
       "         1.62928118e-05,  2.44872099e-05,  1.57693466e-05, -4.00591161e-05,\n",
       "         5.98826273e-06, -3.68319961e-05,  2.69143620e-05,  2.28672143e-05,\n",
       "         2.70083819e-06,  3.89168144e-06,  2.78852040e-05, -2.04242733e-05,\n",
       "         4.86147474e-06, -8.42410736e-06, -2.11798306e-05,  2.90301505e-05,\n",
       "        -4.17241608e-05,  2.84467878e-05,  2.84161870e-05,  5.83582805e-05,\n",
       "        -4.91335368e-06,  4.96951216e-05, -1.02132026e-05,  4.05674509e-05,\n",
       "        -6.16784455e-05, -2.45134725e-05, -1.15348055e-04,  5.65740338e-05,\n",
       "        -1.35866276e-05,  4.43093086e-05, -1.70667663e-05, -2.43811610e-05,\n",
       "         1.07008073e-05, -1.14515846e-04,  4.83958211e-05,  3.48227986e-05,\n",
       "         8.11075915e-06, -3.79728590e-06,  4.59897310e-05, -3.52480529e-05,\n",
       "        -2.98570667e-05,  4.32660636e-05,  1.94404129e-06,  3.54267395e-05,\n",
       "         6.01512293e-05,  2.50456687e-05, -1.19108809e-05,  5.53509853e-05,\n",
       "         5.16941473e-05, -5.63301073e-05,  5.32900012e-05, -3.45616209e-05,\n",
       "         4.48081773e-05,  1.75754103e-05, -5.93294644e-05,  4.46546219e-05,\n",
       "         3.07035043e-05, -4.86205026e-05, -1.59798674e-05,  3.03150809e-05,\n",
       "         2.13321728e-05, -1.85241624e-05, -3.45945136e-06,  9.52077698e-06,\n",
       "         2.64146456e-05, -4.31990338e-05,  3.40858278e-05,  7.79967668e-05,\n",
       "         6.40959915e-05, -1.21382727e-05,  1.40327174e-04,  5.67848620e-05,\n",
       "         5.06950601e-05,  2.33931623e-05, -1.49816886e-04,  1.56030565e-05,\n",
       "        -4.78557558e-06, -3.45704102e-05,  1.66823156e-07,  6.67179629e-05,\n",
       "        -1.15771900e-05, -2.50632147e-05,  2.85108290e-05,  2.22050403e-06,\n",
       "        -5.90705095e-05, -1.95359571e-05, -4.16945331e-05, -5.77411447e-05,\n",
       "         6.26378460e-05, -1.82813674e-05, -2.59260996e-05, -7.72144704e-05,\n",
       "        -8.37105617e-05,  4.07119624e-05,  5.82877656e-05, -9.62555350e-06,\n",
       "         2.44052171e-05,  2.61392997e-05, -7.39546840e-06,  5.23596100e-05,\n",
       "        -9.26381745e-07,  1.36514773e-05,  2.04324056e-06, -4.22265730e-05,\n",
       "        -2.09332109e-04,  2.25516360e-05, -5.11306826e-05,  4.43282370e-05,\n",
       "         2.47950411e-05,  7.15418446e-06, -7.57887847e-06, -3.24516004e-05,\n",
       "        -1.88399245e-05, -2.45074716e-07,  8.59841530e-05, -6.07905749e-05,\n",
       "         5.51600388e-05, -3.15440848e-05,  1.24373346e-05, -6.49015419e-05,\n",
       "        -4.24632090e-05,  5.56468112e-05,  3.17345621e-05,  2.08454039e-05,\n",
       "         3.96439973e-05, -1.08651453e-04, -6.05551868e-05, -7.11148241e-05,\n",
       "         8.55791950e-06,  3.94404706e-05,  3.80107631e-05, -5.27887678e-05,\n",
       "        -8.49048229e-06, -6.81417077e-05,  1.01592559e-05,  2.24193518e-05,\n",
       "        -1.17687832e-05, -2.02571027e-05,  5.22344526e-05, -2.74667709e-05,\n",
       "         1.32250589e-05, -1.06606967e-05,  8.05055606e-07,  6.07080074e-05,\n",
       "        -6.27110494e-05,  4.79125447e-05,  5.27182892e-05,  9.23254920e-05,\n",
       "        -1.53157562e-05,  6.64886393e-05, -3.82566395e-05,  5.58609536e-05,\n",
       "        -5.68720461e-05, -2.42445967e-05, -1.72091968e-04,  6.08542505e-05,\n",
       "        -2.80691656e-05,  5.22348200e-05,  1.97956479e-06, -2.84774487e-05,\n",
       "         1.41757159e-02,  5.74440733e-02,  3.35440412e-02,  1.51730049e-02,\n",
       "         2.54160445e-02,  1.57067291e-02,  6.82104612e-03, -4.07131314e-02,\n",
       "        -7.32180430e-03, -2.70401244e-03,  1.34450868e-02, -3.89943481e-03,\n",
       "         7.67401746e-03,  1.34770209e-02, -5.23459986e-02,  1.92104727e-02,\n",
       "        -6.37685833e-03, -4.04986143e-02, -2.66944021e-02, -2.87390016e-02,\n",
       "         5.30807720e-03, -6.95161074e-02,  1.53533462e-02,  3.82213527e-03,\n",
       "        -1.30577153e-02,  1.92646310e-02, -2.54317541e-02, -1.24129164e-03,\n",
       "        -1.92258805e-02, -5.95976831e-04,  1.62405241e-02, -2.68683098e-02,\n",
       "        -3.82847562e-02,  2.93916091e-02, -1.37988916e-02, -6.87215403e-02,\n",
       "         4.42709066e-02, -2.03653909e-02, -1.57763530e-02,  1.89170651e-02,\n",
       "         3.54256132e-03, -7.21821003e-03, -6.57816529e-02, -2.60455767e-04,\n",
       "         2.99181044e-02,  2.12924778e-02,  4.30642068e-02,  2.68335491e-02,\n",
       "        -4.38593403e-02, -3.64874527e-02, -2.83122659e-02,  7.71336397e-03,\n",
       "         1.11274375e-02,  2.34027440e-03, -8.40262622e-02,  1.82841681e-02,\n",
       "         1.83495097e-02, -1.21792769e-02, -1.68784373e-02, -5.11769690e-02,\n",
       "         4.43354845e-02, -2.88589746e-02, -2.69911578e-03,  1.07666980e-02,\n",
       "         2.64684036e-02, -2.43079476e-03,  3.73314358e-02, -4.37245108e-02,\n",
       "        -1.47399753e-02,  2.98188739e-02,  1.96250472e-02,  2.85674930e-02,\n",
       "         6.21581748e-02,  1.97017845e-03, -9.24332440e-03,  5.30882832e-03,\n",
       "         4.81302850e-03,  1.49920993e-02, -1.39594628e-02,  1.27477832e-02,\n",
       "         2.35747881e-02, -6.29821466e-03, -3.05826031e-02,  1.79643631e-02,\n",
       "        -3.04958187e-02, -3.59000787e-02, -1.86393932e-02, -3.50515693e-02,\n",
       "         1.63113270e-02, -1.34191159e-02, -1.38713568e-02, -3.49395797e-02,\n",
       "        -1.01473294e-02, -4.36332598e-02,  3.05075683e-02,  1.28392074e-02,\n",
       "         3.16002332e-02,  2.27184799e-02, -1.61333196e-03, -1.12614762e-02,\n",
       "        -1.92701723e-02, -2.55165920e-02, -1.34622538e-02,  1.00472989e-02,\n",
       "         3.30741480e-02, -1.07325688e-02, -3.13279703e-02,  4.53258902e-02,\n",
       "         4.46631685e-02, -1.10786036e-02,  4.35220748e-02,  2.45182905e-02,\n",
       "        -3.08291297e-02,  2.01658830e-02,  2.94323266e-02, -3.67175043e-02,\n",
       "         1.74909979e-02, -5.93408756e-02, -4.32190970e-02, -9.06944554e-03,\n",
       "        -1.67787373e-02, -3.18090757e-03, -4.61818054e-02,  2.70868428e-02,\n",
       "        -3.76204662e-02,  8.28396156e-03,  3.54325026e-02,  2.48123929e-02,\n",
       "         1.05347663e-05, -1.02170692e-04,  3.45051885e-05,  1.65436904e-05,\n",
       "        -7.38165909e-07,  1.85749432e-05,  5.66409908e-05, -2.32356724e-05,\n",
       "        -2.18175337e-05,  1.27836365e-05,  1.54066220e-05,  6.71904036e-06,\n",
       "         4.44481411e-05,  1.22260544e-05, -3.40547376e-05,  2.62984104e-05,\n",
       "         4.20855940e-05, -3.35898476e-05,  3.55855882e-05, -2.59341687e-05,\n",
       "         1.65268611e-05,  1.60349828e-05, -4.14215974e-05,  4.66168276e-05,\n",
       "         1.78185419e-05, -4.33481728e-05, -1.98418129e-05,  3.60918602e-05,\n",
       "         1.12735470e-05,  9.82219899e-06,  9.48723391e-06, -4.85038981e-06,\n",
       "         2.83856352e-05, -4.33664209e-05,  2.78968182e-05,  6.65670814e-05,\n",
       "         2.27876881e-05, -1.93093565e-05,  1.13380978e-04,  3.75182681e-05,\n",
       "         4.27732521e-05,  8.92228672e-06, -9.87295571e-05, -1.47804894e-06,\n",
       "         6.05634341e-07, -2.90010976e-05,  1.14584909e-05,  6.75519987e-05,\n",
       "         1.26325831e-05, -1.92614607e-05,  4.09349195e-05,  1.13813121e-05,\n",
       "        -4.25074613e-05, -1.81623145e-05, -2.41608250e-05, -4.74202170e-05,\n",
       "         2.94553083e-05, -3.00003394e-05, -8.44475198e-06, -5.93150144e-05,\n",
       "        -6.47956986e-05,  3.90027635e-05,  6.02449400e-05, -3.81217342e-06,\n",
       "         1.42978442e-05,  9.88052216e-06, -1.75681416e-05,  3.22318811e-05,\n",
       "        -1.50794313e-06,  7.67779602e-06,  3.67423781e-05, -1.83169959e-05,\n",
       "        -1.64529367e-04,  2.36293035e-05, -2.70748533e-05,  3.06571455e-05,\n",
       "         2.89324016e-05, -8.39675795e-06, -7.96897803e-06, -5.10031532e-06,\n",
       "        -3.56183045e-05, -1.49337484e-06,  7.84843869e-05, -2.20190850e-05,\n",
       "         4.51297929e-05, -9.63841740e-06,  2.10069920e-05, -6.70130539e-05,\n",
       "        -5.69547738e-05,  3.38763712e-05,  5.28142664e-06,  2.40703703e-05,\n",
       "         4.60121228e-05, -8.57877676e-05, -5.45528164e-05, -8.67179260e-05,\n",
       "         1.33755584e-05,  3.29753384e-05,  2.18994555e-05, -3.57146200e-05,\n",
       "         4.51846563e-06, -5.22213086e-05,  2.67013002e-05,  2.52307073e-05,\n",
       "        -6.90593333e-06,  7.61696901e-06,  3.50565788e-05, -1.91371237e-05,\n",
       "         6.90572233e-06, -9.25688801e-06, -1.34187503e-05,  3.17448576e-05,\n",
       "        -3.77330252e-05,  2.48500328e-05,  2.36175729e-05,  6.71621819e-05,\n",
       "        -6.69536212e-06,  4.99389716e-05, -1.93342694e-05,  4.17861738e-05,\n",
       "        -7.52833439e-05, -1.99753486e-05, -1.31478766e-04,  5.13480154e-05,\n",
       "        -2.02556330e-05,  4.96957364e-05, -1.30798344e-05, -2.45598094e-05],\n",
       "       dtype=float32)>,\n",
       " <tf.Tensor: shape=(128, 10000), dtype=float32, numpy=\n",
       " array([[ 1.2479960e-03,  2.1585498e-03,  2.2068778e-03, ...,\n",
       "         -3.5935284e-06, -3.5939643e-06, -3.5920411e-06],\n",
       "        [ 1.5429559e-03,  2.8687539e-03,  1.8194909e-03, ...,\n",
       "         -2.3868502e-06, -2.3870818e-06, -2.3871432e-06],\n",
       "        [-3.2491953e-04,  4.9924548e-04, -2.5947433e-04, ...,\n",
       "          9.2566921e-08,  9.2296375e-08,  9.1244203e-08],\n",
       "        ...,\n",
       "        [ 1.2546728e-03,  1.7362888e-03,  3.1554978e-03, ...,\n",
       "         -1.5451201e-06, -1.5464743e-06, -1.5457028e-06],\n",
       "        [-1.2818763e-03, -2.0418051e-03, -1.7223852e-03, ...,\n",
       "          2.7804867e-06,  2.7802803e-06,  2.7761723e-06],\n",
       "        [-2.0951306e-04, -9.4443373e-04,  1.1023268e-04, ...,\n",
       "         -7.6009979e-07, -7.5667396e-07, -7.5951772e-07]], dtype=float32)>,\n",
       " <tf.Tensor: shape=(10000,), dtype=float32, numpy=\n",
       " array([-0.79799795, -1.0313315 , -1.0313314 , ...,  0.00199966,\n",
       "         0.00199946,  0.00199903], dtype=float32)>]"
      ]
     },
     "execution_count": 50,
     "metadata": {},
     "output_type": "execute_result"
    }
   ],
   "source": [
    "# Define the gradient clipping threshold\n",
    "grads, _ = tf.clip_by_global_norm(grad_t_list, max_grad_norm)\n",
    "grads"
   ]
  },
  {
   "cell_type": "markdown",
   "metadata": {},
   "source": [
    "<h4> 4.Apply the optimizer to the variables/gradients tuple. </h4>\n"
   ]
  },
  {
   "cell_type": "code",
   "execution_count": 51,
   "metadata": {
    "tags": []
   },
   "outputs": [],
   "source": [
    "# Create the training TensorFlow Operation through our optimizer\n",
    "train_op = optimizer.apply_gradients(zip(grads, tvars))"
   ]
  },
  {
   "cell_type": "markdown",
   "metadata": {},
   "source": [
    "<a id=\"ltsm\"></a>\n",
    "<h2>LSTM</h2>\n"
   ]
  },
  {
   "cell_type": "markdown",
   "metadata": {},
   "source": [
    "We learned how the model is build step by step. Noe, let's then create a Class that represents our model. This class needs a few things:\n",
    "<ul>\n",
    "    <li>We have to create the model in accordance with our defined hyperparameters</li>\n",
    "    <li>We have to create the LSTM cell structure and connect them with our RNN structure</li>\n",
    "    <li>We have to create the word embeddings and point them to the input data</li>\n",
    "    <li>We have to create the input structure for our RNN</li>\n",
    "    <li>We need to create a logistic structure to return the probability of our words</li>\n",
    "    <li>We need to create the loss and cost functions for our optimizer to work, and then create the optimizer</li>\n",
    "    <li>And finally, we need to create a training operation that can be run to actually train our model</li>\n",
    "</ul>\n"
   ]
  },
  {
   "cell_type": "code",
   "execution_count": 52,
   "metadata": {
    "tags": []
   },
   "outputs": [],
   "source": [
    "class PTBModel(object):\n",
    "\n",
    "\n",
    "    def __init__(self):\n",
    "        ######################################\n",
    "        # Setting parameters for ease of use #\n",
    "        ######################################\n",
    "        self.batch_size = batch_size\n",
    "        self.num_steps = num_steps\n",
    "        self.hidden_size_l1 = hidden_size_l1\n",
    "        self.hidden_size_l2 = hidden_size_l2\n",
    "        self.vocab_size = vocab_size\n",
    "        self.embeding_vector_size = embeding_vector_size\n",
    "        # Create a variable for the learning rate\n",
    "        self._lr = 1.0\n",
    "        \n",
    "        ###############################################################################\n",
    "        # Initializing the model using keras Sequential API  #\n",
    "        ###############################################################################\n",
    "        \n",
    "        self._model = tf.keras.models.Sequential()\n",
    "        \n",
    "        ####################################################################\n",
    "        # Creating the word embeddings layer and adding it to the sequence #\n",
    "        ####################################################################\n",
    "        with tf.device(\"/cpu:0\"):\n",
    "            # Create the embeddings for our input data. Size is hidden size.\n",
    "            self._embedding_layer = tf.keras.layers.Embedding(self.vocab_size, self.embeding_vector_size,batch_input_shape=(self.batch_size, self.num_steps),trainable=True,name=\"embedding_vocab\")  #[10000x200]\n",
    "            self._model.add(self._embedding_layer)\n",
    "            \n",
    "\n",
    "        ##########################################################################\n",
    "        # Creating the LSTM cell structure and connect it with the RNN structure #\n",
    "        ##########################################################################\n",
    "        # Create the LSTM Cells. \n",
    "        # This creates only the structure for the LSTM and has to be associated with a RNN unit still.\n",
    "        # The argument  of LSTMCell is size of hidden layer, that is, the number of hidden units of the LSTM (inside A). \n",
    "        # LSTM cell processes one word at a time and computes probabilities of the possible continuations of the sentence.\n",
    "        lstm_cell_l1 = tf.keras.layers.LSTMCell(hidden_size_l1)\n",
    "        lstm_cell_l2 = tf.keras.layers.LSTMCell(hidden_size_l2)\n",
    "        \n",
    "\n",
    "        \n",
    "        # By taking in the LSTM cells as parameters, the StackedRNNCells function junctions the LSTM units to the RNN units.\n",
    "        # RNN cell composed sequentially of stacked simple cells.\n",
    "        stacked_lstm = tf.keras.layers.StackedRNNCells([lstm_cell_l1, lstm_cell_l2])\n",
    "\n",
    "\n",
    "        \n",
    "\n",
    "        ############################################\n",
    "        # Creating the input structure for our RNN #\n",
    "        ############################################\n",
    "        # Input structure is 20x[30x200]\n",
    "        # Considering each word is represended by a 200 dimentional vector, and we have 30 batchs, we create 30 word-vectors of size [30xx2000]\n",
    "        # The input structure is fed from the embeddings, which are filled in by the input data\n",
    "        # Feeding a batch of b sentences to a RNN:\n",
    "        # In step 1,  first word of each of the b sentences (in a batch) is input in parallel.  \n",
    "        # In step 2,  second word of each of the b sentences is input in parallel. \n",
    "        # The parallelism is only for efficiency.  \n",
    "        # Each sentence in a batch is handled in parallel, but the network sees one word of a sentence at a time and does the computations accordingly. \n",
    "        # All the computations involving the words of all sentences in a batch at a given time step are done in parallel. \n",
    "\n",
    "        ########################################################################################################\n",
    "        # Instantiating our RNN model and setting stateful to True to feed forward the state to the next layer #\n",
    "        ########################################################################################################\n",
    "        \n",
    "        self._RNNlayer  =  tf.keras.layers.RNN(stacked_lstm,[batch_size, num_steps],return_state=False,stateful=True,trainable=True)\n",
    "        \n",
    "        # Define the initial state, i.e., the model state for the very first data point\n",
    "        # It initialize the state of the LSTM memory. The memory state of the network is initialized with a vector of zeros and gets updated after reading each word.\n",
    "        self._initial_state = tf.Variable(tf.zeros([batch_size,embeding_vector_size]),trainable=False)\n",
    "        self._RNNlayer.inital_state = self._initial_state\n",
    "    \n",
    "        ############################################\n",
    "        # Adding RNN layer to keras sequential API #\n",
    "        ############################################        \n",
    "        self._model.add(self._RNNlayer)\n",
    "        \n",
    "        #self._model.add(tf.keras.layers.LSTM(hidden_size_l1,return_sequences=True,stateful=True))\n",
    "        #self._model.add(tf.keras.layers.LSTM(hidden_size_l2,return_sequences=True))\n",
    "        \n",
    "        \n",
    "        ####################################################################################################\n",
    "        # Instantiating a Dense layer that connects the output to the vocab_size  and adding layer to model#\n",
    "        ####################################################################################################\n",
    "        self._dense = tf.keras.layers.Dense(self.vocab_size)\n",
    "        self._model.add(self._dense)\n",
    " \n",
    "        \n",
    "        ####################################################################################################\n",
    "        # Adding softmax activation layer and deriving probability to each class and adding layer to model #\n",
    "        ####################################################################################################\n",
    "        self._activation = tf.keras.layers.Activation('softmax')\n",
    "        self._model.add(self._activation)\n",
    "\n",
    "        ##########################################################\n",
    "        # Instantiating the stochastic gradient decent optimizer #\n",
    "        ########################################################## \n",
    "        self._optimizer = tf.keras.optimizers.SGD(lr=self._lr, clipnorm=max_grad_norm)\n",
    "        \n",
    "        \n",
    "        ##############################################################################\n",
    "        # Compiling and summarizing the model stacked using the keras sequential API #\n",
    "        ##############################################################################\n",
    "        self._model.compile(loss=self.crossentropy, optimizer=self._optimizer)\n",
    "        self._model.summary()\n",
    "\n",
    "\n",
    "    def crossentropy(self,y_true, y_pred):\n",
    "        return tf.keras.losses.sparse_categorical_crossentropy(y_true, y_pred)\n",
    "\n",
    "    def train_batch(self,_input_data,_targets):\n",
    "        #################################################\n",
    "        # Creating the Training Operation for our Model #\n",
    "        #################################################\n",
    "        # Create a variable for the learning rate\n",
    "        self._lr = tf.Variable(0.0, trainable=False)\n",
    "        # Get all TensorFlow variables marked as \"trainable\" (i.e. all of them except _lr, which we just created)\n",
    "        tvars = self._model.trainable_variables\n",
    "        # Define the gradient clipping threshold\n",
    "        with tf.GradientTape() as tape:\n",
    "            # Forward pass.\n",
    "            output_words_prob = self._model(_input_data)\n",
    "            # Loss value for this batch.\n",
    "            loss  = self.crossentropy(_targets, output_words_prob)\n",
    "            # average across batch and reduce sum\n",
    "            cost = tf.reduce_sum(loss/ self.batch_size)\n",
    "        # Get gradients of loss wrt the trainable variables.\n",
    "        grad_t_list = tape.gradient(cost, tvars)\n",
    "        # Define the gradient clipping threshold\n",
    "        grads, _ = tf.clip_by_global_norm(grad_t_list, max_grad_norm)\n",
    "        # Create the training TensorFlow Operation through our optimizer\n",
    "        train_op = self._optimizer.apply_gradients(zip(grads, tvars))\n",
    "        return cost\n",
    "        \n",
    "    def test_batch(self,_input_data,_targets):\n",
    "        #################################################\n",
    "        # Creating the Testing Operation for our Model #\n",
    "        #################################################\n",
    "        output_words_prob = self._model(_input_data)\n",
    "        loss  = self.crossentropy(_targets, output_words_prob)\n",
    "        # average across batch and reduce sum\n",
    "        cost = tf.reduce_sum(loss/ self.batch_size)\n",
    "\n",
    "        return cost\n",
    "    @classmethod\n",
    "    def instance(cls) : \n",
    "        return PTBModel()"
   ]
  },
  {
   "cell_type": "markdown",
   "metadata": {},
   "source": [
    "With that, the actual structure of our Recurrent Neural Network with Long Short-Term Memory is finished. What remains for us to do is to actually create the methods to run through time -- that is, the <code>run_epoch</code> method to be run at each epoch and a <code>main</code> script which ties all of this together.\n",
    "\n",
    "What our <code>run_epoch</code> method should do is take our input data and feed it to the relevant operations. This will return at the very least the current result for the cost function.\n"
   ]
  },
  {
   "cell_type": "code",
   "execution_count": 53,
   "metadata": {
    "tags": []
   },
   "outputs": [],
   "source": [
    "\n",
    "########################################################################################################################\n",
    "# run_one_epoch takes as parameters  the model instance, the data to be fed, training or testing mode and verbose info #\n",
    "########################################################################################################################\n",
    "def run_one_epoch(m, data,is_training=True,verbose=False):\n",
    "\n",
    "    #Define the epoch size based on the length of the data, batch size and the number of steps\n",
    "    epoch_size = ((len(data) // m.batch_size) - 1) // m.num_steps\n",
    "    start_time = time.time()\n",
    "    costs = 0.\n",
    "    iters = 0\n",
    "    \n",
    "    m._model.reset_states()\n",
    "    \n",
    "    #For each step and data point\n",
    "    for step, (x, y) in enumerate(ptb_iterator(data, m.batch_size, m.num_steps)):\n",
    "        \n",
    "        #Evaluate and return cost, state by running cost, final_state and the function passed as parameter\n",
    "        #y = tf.keras.utils.to_categorical(y, num_classes=vocab_size)\n",
    "        if is_training : \n",
    "            loss=  m.train_batch(x, y)\n",
    "        else :\n",
    "            loss = m.test_batch(x, y)\n",
    "                                   \n",
    "\n",
    "        #Add returned cost to costs (which keeps track of the total costs for this epoch)\n",
    "        costs += loss\n",
    "        \n",
    "        #Add number of steps to iteration counter\n",
    "        iters += m.num_steps\n",
    "\n",
    "        if verbose and step % (epoch_size // 10) == 10:\n",
    "            print(\"Itr %d of %d, perplexity: %.3f speed: %.0f wps\" % (step , epoch_size, np.exp(costs / iters), iters * m.batch_size / (time.time() - start_time)))\n",
    "        \n",
    "\n",
    "\n",
    "    # Returns the Perplexity rating for us to keep track of how the model is evolving\n",
    "    return np.exp(costs / iters)\n"
   ]
  },
  {
   "cell_type": "markdown",
   "metadata": {},
   "source": [
    "Now, we create the <code>main</code> method to tie everything together. The code here reads the data from the directory, using the <code>reader</code> helper module, and then trains and evaluates the model on both a testing and a validating subset of data.\n"
   ]
  },
  {
   "cell_type": "code",
   "execution_count": 54,
   "metadata": {
    "tags": []
   },
   "outputs": [],
   "source": [
    "# Reads the data and separates it into training data, validation data and testing data\n",
    "raw_data = ptb_raw_data(data_dir)\n",
    "train_data, valid_data, test_data, _, _ = raw_data"
   ]
  },
  {
   "cell_type": "code",
   "execution_count": null,
   "metadata": {
    "tags": []
   },
   "outputs": [
    {
     "name": "stdout",
     "output_type": "stream",
     "text": [
      "Model: \"sequential_1\"\n",
      "_________________________________________________________________\n",
      " Layer (type)                Output Shape              Param #   \n",
      "=================================================================\n",
      " embedding_vocab (Embedding)  (30, 20, 200)            2000000   \n",
      "                                                                 \n",
      " rnn_1 (RNN)                 (30, 20, 128)             671088    \n",
      "                                                                 \n",
      " dense_1 (Dense)             (30, 20, 10000)           1290000   \n",
      "                                                                 \n",
      " activation_1 (Activation)   (30, 20, 10000)           0         \n",
      "                                                                 \n",
      "=================================================================\n",
      "Total params: 3,961,088\n",
      "Trainable params: 3,955,088\n",
      "Non-trainable params: 6,000\n",
      "_________________________________________________________________\n",
      "Epoch 1 : Learning rate: 1.000\n",
      "Itr 10 of 1549, perplexity: 4662.107 speed: 1143 wps\n",
      "Itr 164 of 1549, perplexity: 1100.977 speed: 1185 wps\n",
      "Itr 318 of 1549, perplexity: 850.398 speed: 1199 wps\n",
      "Itr 472 of 1549, perplexity: 700.876 speed: 1201 wps\n",
      "Itr 626 of 1549, perplexity: 595.360 speed: 1201 wps\n",
      "Itr 780 of 1549, perplexity: 528.159 speed: 1200 wps\n",
      "Itr 934 of 1549, perplexity: 475.774 speed: 1199 wps\n",
      "Itr 1088 of 1549, perplexity: 436.489 speed: 1190 wps\n",
      "Itr 1242 of 1549, perplexity: 406.278 speed: 1183 wps\n",
      "Itr 1396 of 1549, perplexity: 378.204 speed: 1184 wps\n",
      "Epoch 1 : Train Perplexity: 356.069\n",
      "Epoch 1 : Valid Perplexity: 210.922\n",
      "Epoch 2 : Learning rate: 1.000\n",
      "Itr 10 of 1549, perplexity: 235.404 speed: 1166 wps\n",
      "Itr 164 of 1549, perplexity: 209.591 speed: 1177 wps\n",
      "Itr 318 of 1549, perplexity: 200.612 speed: 967 wps\n",
      "Itr 472 of 1549, perplexity: 192.277 speed: 899 wps\n",
      "Itr 626 of 1549, perplexity: 183.318 speed: 867 wps\n",
      "Itr 780 of 1549, perplexity: 179.608 speed: 849 wps\n",
      "Itr 934 of 1549, perplexity: 175.572 speed: 858 wps\n",
      "Itr 1088 of 1549, perplexity: 172.303 speed: 890 wps\n",
      "Itr 1242 of 1549, perplexity: 169.962 speed: 918 wps\n",
      "Itr 1396 of 1549, perplexity: 165.933 speed: 942 wps\n",
      "Epoch 2 : Train Perplexity: 163.130\n",
      "Epoch 2 : Valid Perplexity: 159.791\n",
      "Epoch 3 : Learning rate: 1.000\n",
      "Itr 10 of 1549, perplexity: 160.469 speed: 1078 wps\n",
      "Itr 164 of 1549, perplexity: 146.366 speed: 1133 wps\n",
      "Itr 318 of 1549, perplexity: 142.802 speed: 1146 wps\n",
      "Itr 472 of 1549, perplexity: 138.458 speed: 1130 wps\n",
      "Itr 626 of 1549, perplexity: 133.378 speed: 1132 wps\n",
      "Itr 780 of 1549, perplexity: 132.209 speed: 1019 wps\n",
      "Itr 934 of 1549, perplexity: 130.507 speed: 959 wps\n",
      "Itr 1088 of 1549, perplexity: 129.162 speed: 914 wps\n"
     ]
    }
   ],
   "source": [
    "# Instantiates the PTBModel class\n",
    "m=PTBModel.instance()   \n",
    "K = tf.keras.backend \n",
    "for i in range(max_epoch):\n",
    "    # Define the decay for this epoch\n",
    "    lr_decay = decay ** max(i - max_epoch_decay_lr, 0.0)\n",
    "    dcr = learning_rate * lr_decay\n",
    "    m._lr = dcr\n",
    "    K.set_value(m._model.optimizer.learning_rate,m._lr)\n",
    "    print(\"Epoch %d : Learning rate: %.3f\" % (i + 1, m._model.optimizer.learning_rate))\n",
    "    # Run the loop for this epoch in the training mode\n",
    "    train_perplexity = run_one_epoch(m, train_data,is_training=True,verbose=True)\n",
    "    print(\"Epoch %d : Train Perplexity: %.3f\" % (i + 1, train_perplexity))\n",
    "        \n",
    "    # Run the loop for this epoch in the validation mode\n",
    "    valid_perplexity = run_one_epoch(m, valid_data,is_training=False,verbose=False)\n",
    "    print(\"Epoch %d : Valid Perplexity: %.3f\" % (i + 1, valid_perplexity))\n",
    "    \n",
    "# Run the loop in the testing mode to see how effective was our training\n",
    "test_perplexity = run_one_epoch(m, test_data,is_training=False,verbose=False)\n",
    "print(\"Test Perplexity: %.3f\" % test_perplexity)\n",
    "\n"
   ]
  },
  {
   "cell_type": "markdown",
   "metadata": {},
   "source": [
    "As you can see, the model's perplexity rating drops very quickly after a few iterations. As was elaborated before, <b>lower Perplexity means that the model is more certain about its prediction</b>. As such, we can be sure that this model is performing well!\n"
   ]
  },
  {
   "cell_type": "markdown",
   "metadata": {},
   "source": [
    "-------\n"
   ]
  },
  {
   "cell_type": "markdown",
   "metadata": {},
   "source": [
    "This is the end of the <b>Applying Recurrent Neural Networks to Text Processing</b> notebook. Hopefully you now have a better understanding of Recurrent Neural Networks and how to implement one utilizing TensorFlow. Thank you for reading this notebook, and good luck on your studies.\n"
   ]
  },
  {
   "cell_type": "markdown",
   "metadata": {},
   "source": [
    "## Want to learn more?\n",
    "\n",
    "Also, you can use __Watson Studio__ to run these notebooks faster with bigger datasets.__Watson Studio__ is IBM’s leading cloud solution for data scientists, built by data scientists. With Jupyter notebooks, RStudio, Apache Spark and popular libraries pre-packaged in the cloud, __Watson Studio__ enables data scientists to collaborate on their projects without having to install anything. Join the fast-growing community of __Watson Studio__ users today with a free account at [Watson Studio](https://cocl.us/ML0120EN_DSX).This is the end of this lesson. Thank you for reading this notebook, and good luck on your studies.\n"
   ]
  },
  {
   "cell_type": "markdown",
   "metadata": {},
   "source": [
    "### Thanks for completing this lesson!\n",
    "\n",
    "Notebook created by <a href=\"https://br.linkedin.com/in/walter-gomes-de-amorim-junior-624726121?utm_medium=Exinfluencer&utm_source=Exinfluencer&utm_content=000026UJ&utm_term=10006555&utm_id=NA-SkillsNetwork-Channel-SkillsNetworkCoursesIBMDeveloperSkillsNetworkDL0120ENSkillsNetwork954-2023-01-01\">Walter Gomes de Amorim Junior</a>, <a href = \"https://linkedin.com/in/saeedaghabozorgi\"> Saeed Aghabozorgi </a></h4>\n",
    "\n",
    "\n",
    "Updated to TF 2.X by  <a href=\"https://www.linkedin.com/in/samaya-madhavan?utm_medium=Exinfluencer&utm_source=Exinfluencer&utm_content=000026UJ&utm_term=10006555&utm_id=NA-SkillsNetwork-Channel-SkillsNetworkCoursesIBMDeveloperSkillsNetworkDL0120ENSkillsNetwork954-2023-01-01\"> Samaya Madhavan </a>\n"
   ]
  },
  {
   "cell_type": "markdown",
   "metadata": {},
   "source": [
    "<hr>\n",
    "\n",
    "Copyright &copy; 2018 [Cognitive Class](https://cocl.us/DX0108EN_CC). This notebook and its source code are released under the terms of the [MIT License](https://bigdatauniversity.com/mit-license/?utm_medium=Exinfluencer&utm_source=Exinfluencer&utm_content=000026UJ&utm_term=10006555&utm_id=NA-SkillsNetwork-Channel-SkillsNetworkCoursesIBMDeveloperSkillsNetworkDL0120ENSkillsNetwork954-2023-01-01).\n"
   ]
  }
 ],
 "metadata": {
  "kernelspec": {
   "display_name": "Python 3 (ipykernel)",
   "language": "python",
   "name": "python3"
  },
  "language_info": {
   "codemirror_mode": {
    "name": "ipython",
    "version": 3
   },
   "file_extension": ".py",
   "mimetype": "text/x-python",
   "name": "python",
   "nbconvert_exporter": "python",
   "pygments_lexer": "ipython3",
   "version": "3.8.17"
  }
 },
 "nbformat": 4,
 "nbformat_minor": 4
}
